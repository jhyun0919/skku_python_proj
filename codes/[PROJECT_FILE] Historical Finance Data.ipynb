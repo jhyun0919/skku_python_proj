{
 "cells": [
  {
   "cell_type": "markdown",
   "metadata": {},
   "source": [
    "# 00. Intro"
   ]
  },
  {
   "cell_type": "markdown",
   "metadata": {},
   "source": [
    "Through **[BeatfulSoup](https://www.crummy.com/software/BeautifulSoup/bs4/doc/)**, parse historical finance data of Korean companies(#45).   \n",
    "\n",
    "With **[pandas](https://pandas.pydata.org)** & **[plotly](https://plot.ly/python/)**, refine the data and plot a graph of it for easy understanding.   \n",
    "\n",
    "Finally, with **[affinity clustering](http://scikit-learn.org/stable/modules/generated/sklearn.cluster.AffinityPropagation.html)** from **[scikit-learn](http://scikit-learn.org/stable/)**,  \n",
    "we show that the financial data trend of each company can grasp the **_\"relation & tendency among companies\"_**.\n",
    "\n",
    "---\n",
    "\n",
    "### Contents\n",
    "\n",
    "**1. Parse Historical Finance Data with BeatfulSoup**\n",
    "\n",
    "**2. Show Historical Finance Data**\n",
    "\n",
    "**3. Clustering**"
   ]
  },
  {
   "cell_type": "markdown",
   "metadata": {},
   "source": [
    "---"
   ]
  },
  {
   "cell_type": "markdown",
   "metadata": {},
   "source": [
    "### setting the envirinment"
   ]
  },
  {
   "cell_type": "markdown",
   "metadata": {},
   "source": [
    "```\n",
    "$ pip install -r requirements.txt\n",
    "```"
   ]
  },
  {
   "cell_type": "markdown",
   "metadata": {},
   "source": [
    "---"
   ]
  },
  {
   "cell_type": "markdown",
   "metadata": {},
   "source": [
    "# 01. Parse Historical Finance Data with BeatifulSoup"
   ]
  },
  {
   "cell_type": "markdown",
   "metadata": {},
   "source": [
    "###  01_01. parse historical finance data @ [NAVER 금융](http://finance.naver.com) "
   ]
  },
  {
   "cell_type": "code",
   "execution_count": 1,
   "metadata": {},
   "outputs": [],
   "source": [
    "from financeDataParser import FinanceDataParser"
   ]
  },
  {
   "cell_type": "markdown",
   "metadata": {},
   "source": [
    "- **src: [financeDataParser.py](https://github.com/jhyun0919/skku_python_proj/blob/master/codes/financeDataParser.py)**"
   ]
  },
  {
   "cell_type": "code",
   "execution_count": 2,
   "metadata": {},
   "outputs": [],
   "source": [
    "parser = FinanceDataParser()"
   ]
  },
  {
   "cell_type": "markdown",
   "metadata": {},
   "source": [
    " - **e.g. [삼성전자(보통주) 일별 시세 주소](http://finance.naver.com/item/sise_day.nhn?code=005930)**"
   ]
  },
  {
   "cell_type": "code",
   "execution_count": 3,
   "metadata": {},
   "outputs": [
    {
     "name": "stdout",
     "output_type": "stream",
     "text": [
      "> parsing historical finance data\n",
      "\t- index_num : 0.\tfetching quote history for \"두산\"\n",
      "\t- index_num : 1.\tfetching quote history for \"기아차\"\n",
      "\t- index_num : 2.\tfetching quote history for \"sk하이닉스\"\n",
      "\t- index_num : 3.\tfetching quote history for \"한화\"\n",
      "\t- index_num : 4.\tfetching quote history for \"CJ\"\n",
      "\t- index_num : 5.\tfetching quote history for \"대한항공\"\n",
      "\t- index_num : 6.\tfetching quote history for \"현대제철\"\n",
      "\t- index_num : 7.\tfetching quote history for \"신세계\"\n",
      "\t- index_num : 8.\tfetching quote history for \"효성\"\n",
      "\t- index_num : 9.\tfetching quote history for \"현대차\"\n",
      "\t- index_num : 10.\tfetching quote history for \"삼성전자\"\n",
      "\t- index_num : 11.\tfetching quote history for \"오뚜기\"\n",
      "\t- index_num : 12.\tfetching quote history for \"호텔신라\"\n",
      "\t- index_num : 13.\tfetching quote history for \"현대중공업\"\n",
      "\t- index_num : 14.\tfetching quote history for \"한화케미칼\"\n",
      "\t- index_num : 15.\tfetching quote history for \"삼성중공업\"\n",
      "\t- index_num : 16.\tfetching quote history for \"S오일\"\n",
      "\t- index_num : 17.\tfetching quote history for \"SKT\"\n",
      "\t- index_num : 18.\tfetching quote history for \"아시아나항공\"\n",
      "\t- index_num : 19.\tfetching quote history for \"기업은행\"\n",
      "\t- index_num : 20.\tfetching quote history for \"삼성카드\"\n",
      "\t- index_num : 21.\tfetching quote history for \"KT\"\n",
      "\t- index_num : 22.\tfetching quote history for \"LG유플러스\"\n",
      "\t- index_num : 23.\tfetching quote history for \"LG디스플레이\"\n",
      "\t- index_num : 24.\tfetching quote history for \"SK\"\n",
      "\t- index_num : 25.\tfetching quote history for \"네이버\"\n",
      "\t- index_num : 26.\tfetching quote history for \"카카오\"\n",
      "\t- index_num : 27.\tfetching quote history for \"JYP엔터\"\n",
      "\t- index_num : 28.\tfetching quote history for \"ncsoft\"\n",
      "\t- index_num : 29.\tfetching quote history for \"sm엔터\"\n",
      "\t- index_num : 30.\tfetching quote history for \"대우조선해양\"\n",
      "\t- index_num : 31.\tfetching quote history for \"한국한공우주\"\n",
      "\t- index_num : 32.\tfetching quote history for \"LG생활건강\"\n",
      "\t- index_num : 33.\tfetching quote history for \"LG화학\"\n",
      "\t- index_num : 34.\tfetching quote history for \"신한지주\"\n",
      "\t- index_num : 35.\tfetching quote history for \"LG전자\"\n",
      "\t- index_num : 36.\tfetching quote history for \"셀트리온\"\n",
      "\t- index_num : 37.\tfetching quote history for \"셀트리온제약\"\n",
      "\t- index_num : 38.\tfetching quote history for \"현대백화점\"\n",
      "\t- index_num : 39.\tfetching quote history for \"하이마트\"\n",
      "\t- index_num : 40.\tfetching quote history for \"아모레퍼시픽\"\n",
      "\t- index_num : 41.\tfetching quote history for \"sk이노베이션\"\n",
      "\t- index_num : 42.\tfetching quote history for \"CJ제일제당\"\n",
      "\t- index_num : 43.\tfetching quote history for \"KB금융\"\n",
      "\t- index_num : 44.\tfetching quote history for \"이마트\"\n"
     ]
    }
   ],
   "source": [
    "quotes = parser.quotes_historical_finance(start_date='2016.02.01')"
   ]
  },
  {
   "cell_type": "markdown",
   "metadata": {},
   "source": [
    "---"
   ]
  },
  {
   "cell_type": "markdown",
   "metadata": {},
   "source": [
    "# 02. Show Historical Finance Data"
   ]
  },
  {
   "cell_type": "code",
   "execution_count": 4,
   "metadata": {},
   "outputs": [],
   "source": [
    "from dataDecorator import DataDecorator"
   ]
  },
  {
   "cell_type": "markdown",
   "metadata": {},
   "source": [
    "- **src: [dataDecorator.py](https://github.com/jhyun0919/skku_python_proj/blob/master/codes/dataDecorator.py)**"
   ]
  },
  {
   "cell_type": "markdown",
   "metadata": {},
   "source": [
    "### 02_01. pandas dataframe"
   ]
  },
  {
   "cell_type": "code",
   "execution_count": 5,
   "metadata": {},
   "outputs": [],
   "source": [
    "index_num = 11"
   ]
  },
  {
   "cell_type": "code",
   "execution_count": 6,
   "metadata": {},
   "outputs": [],
   "source": [
    "names = parser.get_stock_names()\n",
    "stock_items = parser.get_stock_items()"
   ]
  },
  {
   "cell_type": "code",
   "execution_count": 7,
   "metadata": {},
   "outputs": [
    {
     "name": "stdout",
     "output_type": "stream",
     "text": [
      "stock_name : 오뚜기\n",
      "stock_item : 007310\n"
     ]
    }
   ],
   "source": [
    "print('stock_name : {name}'.format(name=names[index_num]))\n",
    "print('stock_item : {stock_item}'.format(stock_item=stock_items[index_num]))"
   ]
  },
  {
   "cell_type": "code",
   "execution_count": 8,
   "metadata": {},
   "outputs": [],
   "source": [
    "df = DataDecorator.set_dataframe(idx=index_num, quotes=quotes)"
   ]
  },
  {
   "cell_type": "code",
   "execution_count": 9,
   "metadata": {},
   "outputs": [
    {
     "data": {
      "text/html": [
       "<div>\n",
       "<style scoped>\n",
       "    .dataframe tbody tr th:only-of-type {\n",
       "        vertical-align: middle;\n",
       "    }\n",
       "\n",
       "    .dataframe tbody tr th {\n",
       "        vertical-align: top;\n",
       "    }\n",
       "\n",
       "    .dataframe thead th {\n",
       "        text-align: right;\n",
       "    }\n",
       "</style>\n",
       "<table border=\"1\" class=\"dataframe\">\n",
       "  <thead>\n",
       "    <tr style=\"text-align: right;\">\n",
       "      <th></th>\n",
       "      <th>close_prices</th>\n",
       "      <th>open_prices</th>\n",
       "      <th>high_prices</th>\n",
       "      <th>low_prices</th>\n",
       "      <th>volume</th>\n",
       "    </tr>\n",
       "    <tr>\n",
       "      <th>market_dates</th>\n",
       "      <th></th>\n",
       "      <th></th>\n",
       "      <th></th>\n",
       "      <th></th>\n",
       "      <th></th>\n",
       "    </tr>\n",
       "  </thead>\n",
       "  <tbody>\n",
       "    <tr>\n",
       "      <th>2016-02-01</th>\n",
       "      <td>1384000.0</td>\n",
       "      <td>1414000.0</td>\n",
       "      <td>1425000.0</td>\n",
       "      <td>1360000.0</td>\n",
       "      <td>8577.0</td>\n",
       "    </tr>\n",
       "    <tr>\n",
       "      <th>2016-02-02</th>\n",
       "      <td>1409000.0</td>\n",
       "      <td>1361000.0</td>\n",
       "      <td>1423000.0</td>\n",
       "      <td>1361000.0</td>\n",
       "      <td>6317.0</td>\n",
       "    </tr>\n",
       "    <tr>\n",
       "      <th>2016-02-03</th>\n",
       "      <td>1410000.0</td>\n",
       "      <td>1408000.0</td>\n",
       "      <td>1433000.0</td>\n",
       "      <td>1398000.0</td>\n",
       "      <td>4121.0</td>\n",
       "    </tr>\n",
       "    <tr>\n",
       "      <th>2016-02-04</th>\n",
       "      <td>1381000.0</td>\n",
       "      <td>1416000.0</td>\n",
       "      <td>1418000.0</td>\n",
       "      <td>1380000.0</td>\n",
       "      <td>5039.0</td>\n",
       "    </tr>\n",
       "    <tr>\n",
       "      <th>2016-02-05</th>\n",
       "      <td>1259000.0</td>\n",
       "      <td>1381000.0</td>\n",
       "      <td>1381000.0</td>\n",
       "      <td>1254000.0</td>\n",
       "      <td>18153.0</td>\n",
       "    </tr>\n",
       "    <tr>\n",
       "      <th>2016-02-11</th>\n",
       "      <td>1242000.0</td>\n",
       "      <td>1250000.0</td>\n",
       "      <td>1263000.0</td>\n",
       "      <td>1230000.0</td>\n",
       "      <td>7384.0</td>\n",
       "    </tr>\n",
       "    <tr>\n",
       "      <th>2016-02-12</th>\n",
       "      <td>1180000.0</td>\n",
       "      <td>1230000.0</td>\n",
       "      <td>1240000.0</td>\n",
       "      <td>1142000.0</td>\n",
       "      <td>11311.0</td>\n",
       "    </tr>\n",
       "    <tr>\n",
       "      <th>2016-02-15</th>\n",
       "      <td>1274000.0</td>\n",
       "      <td>1198000.0</td>\n",
       "      <td>1279000.0</td>\n",
       "      <td>1195000.0</td>\n",
       "      <td>9462.0</td>\n",
       "    </tr>\n",
       "    <tr>\n",
       "      <th>2016-02-16</th>\n",
       "      <td>1298000.0</td>\n",
       "      <td>1263000.0</td>\n",
       "      <td>1323000.0</td>\n",
       "      <td>1263000.0</td>\n",
       "      <td>6873.0</td>\n",
       "    </tr>\n",
       "    <tr>\n",
       "      <th>2016-02-17</th>\n",
       "      <td>1230000.0</td>\n",
       "      <td>1300000.0</td>\n",
       "      <td>1325000.0</td>\n",
       "      <td>1205000.0</td>\n",
       "      <td>12108.0</td>\n",
       "    </tr>\n",
       "    <tr>\n",
       "      <th>2016-02-18</th>\n",
       "      <td>1240000.0</td>\n",
       "      <td>1259000.0</td>\n",
       "      <td>1281000.0</td>\n",
       "      <td>1222000.0</td>\n",
       "      <td>10113.0</td>\n",
       "    </tr>\n",
       "    <tr>\n",
       "      <th>2016-02-19</th>\n",
       "      <td>1238000.0</td>\n",
       "      <td>1240000.0</td>\n",
       "      <td>1274000.0</td>\n",
       "      <td>1225000.0</td>\n",
       "      <td>9792.0</td>\n",
       "    </tr>\n",
       "    <tr>\n",
       "      <th>2016-02-22</th>\n",
       "      <td>1241000.0</td>\n",
       "      <td>1231000.0</td>\n",
       "      <td>1265000.0</td>\n",
       "      <td>1230000.0</td>\n",
       "      <td>5577.0</td>\n",
       "    </tr>\n",
       "    <tr>\n",
       "      <th>2016-02-23</th>\n",
       "      <td>1218000.0</td>\n",
       "      <td>1238000.0</td>\n",
       "      <td>1256000.0</td>\n",
       "      <td>1191000.0</td>\n",
       "      <td>8573.0</td>\n",
       "    </tr>\n",
       "    <tr>\n",
       "      <th>2016-02-24</th>\n",
       "      <td>1172000.0</td>\n",
       "      <td>1190000.0</td>\n",
       "      <td>1229000.0</td>\n",
       "      <td>1168000.0</td>\n",
       "      <td>11924.0</td>\n",
       "    </tr>\n",
       "    <tr>\n",
       "      <th>2016-02-25</th>\n",
       "      <td>1162000.0</td>\n",
       "      <td>1166000.0</td>\n",
       "      <td>1185000.0</td>\n",
       "      <td>1156000.0</td>\n",
       "      <td>12475.0</td>\n",
       "    </tr>\n",
       "    <tr>\n",
       "      <th>2016-02-26</th>\n",
       "      <td>1189000.0</td>\n",
       "      <td>1165000.0</td>\n",
       "      <td>1192000.0</td>\n",
       "      <td>1155000.0</td>\n",
       "      <td>9132.0</td>\n",
       "    </tr>\n",
       "    <tr>\n",
       "      <th>2016-02-29</th>\n",
       "      <td>1146000.0</td>\n",
       "      <td>1191000.0</td>\n",
       "      <td>1191000.0</td>\n",
       "      <td>1126000.0</td>\n",
       "      <td>15785.0</td>\n",
       "    </tr>\n",
       "    <tr>\n",
       "      <th>2016-03-02</th>\n",
       "      <td>1186000.0</td>\n",
       "      <td>1151000.0</td>\n",
       "      <td>1186000.0</td>\n",
       "      <td>1147000.0</td>\n",
       "      <td>11657.0</td>\n",
       "    </tr>\n",
       "    <tr>\n",
       "      <th>2016-03-03</th>\n",
       "      <td>1217000.0</td>\n",
       "      <td>1188000.0</td>\n",
       "      <td>1234000.0</td>\n",
       "      <td>1165000.0</td>\n",
       "      <td>12449.0</td>\n",
       "    </tr>\n",
       "    <tr>\n",
       "      <th>2016-03-04</th>\n",
       "      <td>1070000.0</td>\n",
       "      <td>1199000.0</td>\n",
       "      <td>1199000.0</td>\n",
       "      <td>1061000.0</td>\n",
       "      <td>38274.0</td>\n",
       "    </tr>\n",
       "    <tr>\n",
       "      <th>2016-03-07</th>\n",
       "      <td>1072000.0</td>\n",
       "      <td>1074000.0</td>\n",
       "      <td>1093000.0</td>\n",
       "      <td>1050000.0</td>\n",
       "      <td>15311.0</td>\n",
       "    </tr>\n",
       "    <tr>\n",
       "      <th>2016-03-08</th>\n",
       "      <td>1037000.0</td>\n",
       "      <td>1063000.0</td>\n",
       "      <td>1069000.0</td>\n",
       "      <td>1026000.0</td>\n",
       "      <td>16237.0</td>\n",
       "    </tr>\n",
       "    <tr>\n",
       "      <th>2016-03-09</th>\n",
       "      <td>1043000.0</td>\n",
       "      <td>1036000.0</td>\n",
       "      <td>1060000.0</td>\n",
       "      <td>1030000.0</td>\n",
       "      <td>15501.0</td>\n",
       "    </tr>\n",
       "    <tr>\n",
       "      <th>2016-03-10</th>\n",
       "      <td>1043000.0</td>\n",
       "      <td>1046000.0</td>\n",
       "      <td>1050000.0</td>\n",
       "      <td>1035000.0</td>\n",
       "      <td>7210.0</td>\n",
       "    </tr>\n",
       "    <tr>\n",
       "      <th>2016-03-11</th>\n",
       "      <td>1050000.0</td>\n",
       "      <td>1046000.0</td>\n",
       "      <td>1064000.0</td>\n",
       "      <td>1035000.0</td>\n",
       "      <td>8224.0</td>\n",
       "    </tr>\n",
       "    <tr>\n",
       "      <th>2016-03-14</th>\n",
       "      <td>1018000.0</td>\n",
       "      <td>1054000.0</td>\n",
       "      <td>1056000.0</td>\n",
       "      <td>1017000.0</td>\n",
       "      <td>11893.0</td>\n",
       "    </tr>\n",
       "    <tr>\n",
       "      <th>2016-03-15</th>\n",
       "      <td>1020000.0</td>\n",
       "      <td>1020000.0</td>\n",
       "      <td>1034000.0</td>\n",
       "      <td>1015000.0</td>\n",
       "      <td>9682.0</td>\n",
       "    </tr>\n",
       "    <tr>\n",
       "      <th>2016-03-16</th>\n",
       "      <td>1033000.0</td>\n",
       "      <td>1018000.0</td>\n",
       "      <td>1045000.0</td>\n",
       "      <td>1018000.0</td>\n",
       "      <td>9122.0</td>\n",
       "    </tr>\n",
       "    <tr>\n",
       "      <th>2016-03-17</th>\n",
       "      <td>1019000.0</td>\n",
       "      <td>1038000.0</td>\n",
       "      <td>1043000.0</td>\n",
       "      <td>1010000.0</td>\n",
       "      <td>11942.0</td>\n",
       "    </tr>\n",
       "    <tr>\n",
       "      <th>...</th>\n",
       "      <td>...</td>\n",
       "      <td>...</td>\n",
       "      <td>...</td>\n",
       "      <td>...</td>\n",
       "      <td>...</td>\n",
       "    </tr>\n",
       "    <tr>\n",
       "      <th>2017-10-26</th>\n",
       "      <td>770000.0</td>\n",
       "      <td>765000.0</td>\n",
       "      <td>775000.0</td>\n",
       "      <td>760000.0</td>\n",
       "      <td>2935.0</td>\n",
       "    </tr>\n",
       "    <tr>\n",
       "      <th>2017-10-27</th>\n",
       "      <td>783000.0</td>\n",
       "      <td>769000.0</td>\n",
       "      <td>788000.0</td>\n",
       "      <td>766000.0</td>\n",
       "      <td>5871.0</td>\n",
       "    </tr>\n",
       "    <tr>\n",
       "      <th>2017-10-30</th>\n",
       "      <td>765000.0</td>\n",
       "      <td>778000.0</td>\n",
       "      <td>782000.0</td>\n",
       "      <td>763000.0</td>\n",
       "      <td>5024.0</td>\n",
       "    </tr>\n",
       "    <tr>\n",
       "      <th>2017-10-31</th>\n",
       "      <td>759000.0</td>\n",
       "      <td>760000.0</td>\n",
       "      <td>767000.0</td>\n",
       "      <td>758000.0</td>\n",
       "      <td>4602.0</td>\n",
       "    </tr>\n",
       "    <tr>\n",
       "      <th>2017-11-01</th>\n",
       "      <td>751000.0</td>\n",
       "      <td>751000.0</td>\n",
       "      <td>762000.0</td>\n",
       "      <td>750000.0</td>\n",
       "      <td>6322.0</td>\n",
       "    </tr>\n",
       "    <tr>\n",
       "      <th>2017-11-02</th>\n",
       "      <td>751000.0</td>\n",
       "      <td>751000.0</td>\n",
       "      <td>757000.0</td>\n",
       "      <td>749000.0</td>\n",
       "      <td>3632.0</td>\n",
       "    </tr>\n",
       "    <tr>\n",
       "      <th>2017-11-03</th>\n",
       "      <td>757000.0</td>\n",
       "      <td>757000.0</td>\n",
       "      <td>759000.0</td>\n",
       "      <td>748000.0</td>\n",
       "      <td>2697.0</td>\n",
       "    </tr>\n",
       "    <tr>\n",
       "      <th>2017-11-06</th>\n",
       "      <td>758000.0</td>\n",
       "      <td>756000.0</td>\n",
       "      <td>759000.0</td>\n",
       "      <td>753000.0</td>\n",
       "      <td>1928.0</td>\n",
       "    </tr>\n",
       "    <tr>\n",
       "      <th>2017-11-07</th>\n",
       "      <td>749000.0</td>\n",
       "      <td>755000.0</td>\n",
       "      <td>762000.0</td>\n",
       "      <td>748000.0</td>\n",
       "      <td>4402.0</td>\n",
       "    </tr>\n",
       "    <tr>\n",
       "      <th>2017-11-08</th>\n",
       "      <td>752000.0</td>\n",
       "      <td>747000.0</td>\n",
       "      <td>753000.0</td>\n",
       "      <td>742000.0</td>\n",
       "      <td>2979.0</td>\n",
       "    </tr>\n",
       "    <tr>\n",
       "      <th>2017-11-09</th>\n",
       "      <td>770000.0</td>\n",
       "      <td>755000.0</td>\n",
       "      <td>775000.0</td>\n",
       "      <td>752000.0</td>\n",
       "      <td>8483.0</td>\n",
       "    </tr>\n",
       "    <tr>\n",
       "      <th>2017-11-10</th>\n",
       "      <td>761000.0</td>\n",
       "      <td>771000.0</td>\n",
       "      <td>773000.0</td>\n",
       "      <td>758000.0</td>\n",
       "      <td>2593.0</td>\n",
       "    </tr>\n",
       "    <tr>\n",
       "      <th>2017-11-13</th>\n",
       "      <td>757000.0</td>\n",
       "      <td>761000.0</td>\n",
       "      <td>767000.0</td>\n",
       "      <td>756000.0</td>\n",
       "      <td>2397.0</td>\n",
       "    </tr>\n",
       "    <tr>\n",
       "      <th>2017-11-14</th>\n",
       "      <td>759000.0</td>\n",
       "      <td>757000.0</td>\n",
       "      <td>761000.0</td>\n",
       "      <td>753000.0</td>\n",
       "      <td>2421.0</td>\n",
       "    </tr>\n",
       "    <tr>\n",
       "      <th>2017-11-15</th>\n",
       "      <td>753000.0</td>\n",
       "      <td>760000.0</td>\n",
       "      <td>760000.0</td>\n",
       "      <td>749000.0</td>\n",
       "      <td>3013.0</td>\n",
       "    </tr>\n",
       "    <tr>\n",
       "      <th>2017-11-16</th>\n",
       "      <td>752000.0</td>\n",
       "      <td>760000.0</td>\n",
       "      <td>760000.0</td>\n",
       "      <td>748000.0</td>\n",
       "      <td>2176.0</td>\n",
       "    </tr>\n",
       "    <tr>\n",
       "      <th>2017-11-17</th>\n",
       "      <td>789000.0</td>\n",
       "      <td>754000.0</td>\n",
       "      <td>789000.0</td>\n",
       "      <td>754000.0</td>\n",
       "      <td>17901.0</td>\n",
       "    </tr>\n",
       "    <tr>\n",
       "      <th>2017-11-20</th>\n",
       "      <td>826000.0</td>\n",
       "      <td>795000.0</td>\n",
       "      <td>832000.0</td>\n",
       "      <td>793000.0</td>\n",
       "      <td>22021.0</td>\n",
       "    </tr>\n",
       "    <tr>\n",
       "      <th>2017-11-21</th>\n",
       "      <td>826000.0</td>\n",
       "      <td>830000.0</td>\n",
       "      <td>844000.0</td>\n",
       "      <td>817000.0</td>\n",
       "      <td>9426.0</td>\n",
       "    </tr>\n",
       "    <tr>\n",
       "      <th>2017-11-22</th>\n",
       "      <td>804000.0</td>\n",
       "      <td>826000.0</td>\n",
       "      <td>826000.0</td>\n",
       "      <td>802000.0</td>\n",
       "      <td>6265.0</td>\n",
       "    </tr>\n",
       "    <tr>\n",
       "      <th>2017-11-23</th>\n",
       "      <td>810000.0</td>\n",
       "      <td>807000.0</td>\n",
       "      <td>814000.0</td>\n",
       "      <td>806000.0</td>\n",
       "      <td>2785.0</td>\n",
       "    </tr>\n",
       "    <tr>\n",
       "      <th>2017-11-24</th>\n",
       "      <td>800000.0</td>\n",
       "      <td>810000.0</td>\n",
       "      <td>815000.0</td>\n",
       "      <td>800000.0</td>\n",
       "      <td>3308.0</td>\n",
       "    </tr>\n",
       "    <tr>\n",
       "      <th>2017-11-27</th>\n",
       "      <td>808000.0</td>\n",
       "      <td>800000.0</td>\n",
       "      <td>818000.0</td>\n",
       "      <td>800000.0</td>\n",
       "      <td>4257.0</td>\n",
       "    </tr>\n",
       "    <tr>\n",
       "      <th>2017-11-28</th>\n",
       "      <td>828000.0</td>\n",
       "      <td>810000.0</td>\n",
       "      <td>830000.0</td>\n",
       "      <td>809000.0</td>\n",
       "      <td>6571.0</td>\n",
       "    </tr>\n",
       "    <tr>\n",
       "      <th>2017-11-29</th>\n",
       "      <td>809000.0</td>\n",
       "      <td>828000.0</td>\n",
       "      <td>828000.0</td>\n",
       "      <td>808000.0</td>\n",
       "      <td>4559.0</td>\n",
       "    </tr>\n",
       "    <tr>\n",
       "      <th>2017-11-30</th>\n",
       "      <td>794000.0</td>\n",
       "      <td>818000.0</td>\n",
       "      <td>818000.0</td>\n",
       "      <td>794000.0</td>\n",
       "      <td>7751.0</td>\n",
       "    </tr>\n",
       "    <tr>\n",
       "      <th>2017-12-01</th>\n",
       "      <td>791000.0</td>\n",
       "      <td>794000.0</td>\n",
       "      <td>797000.0</td>\n",
       "      <td>783000.0</td>\n",
       "      <td>4244.0</td>\n",
       "    </tr>\n",
       "    <tr>\n",
       "      <th>2017-12-04</th>\n",
       "      <td>792000.0</td>\n",
       "      <td>791000.0</td>\n",
       "      <td>807000.0</td>\n",
       "      <td>785000.0</td>\n",
       "      <td>5899.0</td>\n",
       "    </tr>\n",
       "    <tr>\n",
       "      <th>2017-12-05</th>\n",
       "      <td>820000.0</td>\n",
       "      <td>794000.0</td>\n",
       "      <td>820000.0</td>\n",
       "      <td>793000.0</td>\n",
       "      <td>7556.0</td>\n",
       "    </tr>\n",
       "    <tr>\n",
       "      <th>2017-12-06</th>\n",
       "      <td>795000.0</td>\n",
       "      <td>819000.0</td>\n",
       "      <td>820000.0</td>\n",
       "      <td>793000.0</td>\n",
       "      <td>4281.0</td>\n",
       "    </tr>\n",
       "  </tbody>\n",
       "</table>\n",
       "<p>454 rows × 5 columns</p>\n",
       "</div>"
      ],
      "text/plain": [
       "              close_prices  open_prices  high_prices  low_prices   volume\n",
       "market_dates                                                             \n",
       "2016-02-01       1384000.0    1414000.0    1425000.0   1360000.0   8577.0\n",
       "2016-02-02       1409000.0    1361000.0    1423000.0   1361000.0   6317.0\n",
       "2016-02-03       1410000.0    1408000.0    1433000.0   1398000.0   4121.0\n",
       "2016-02-04       1381000.0    1416000.0    1418000.0   1380000.0   5039.0\n",
       "2016-02-05       1259000.0    1381000.0    1381000.0   1254000.0  18153.0\n",
       "2016-02-11       1242000.0    1250000.0    1263000.0   1230000.0   7384.0\n",
       "2016-02-12       1180000.0    1230000.0    1240000.0   1142000.0  11311.0\n",
       "2016-02-15       1274000.0    1198000.0    1279000.0   1195000.0   9462.0\n",
       "2016-02-16       1298000.0    1263000.0    1323000.0   1263000.0   6873.0\n",
       "2016-02-17       1230000.0    1300000.0    1325000.0   1205000.0  12108.0\n",
       "2016-02-18       1240000.0    1259000.0    1281000.0   1222000.0  10113.0\n",
       "2016-02-19       1238000.0    1240000.0    1274000.0   1225000.0   9792.0\n",
       "2016-02-22       1241000.0    1231000.0    1265000.0   1230000.0   5577.0\n",
       "2016-02-23       1218000.0    1238000.0    1256000.0   1191000.0   8573.0\n",
       "2016-02-24       1172000.0    1190000.0    1229000.0   1168000.0  11924.0\n",
       "2016-02-25       1162000.0    1166000.0    1185000.0   1156000.0  12475.0\n",
       "2016-02-26       1189000.0    1165000.0    1192000.0   1155000.0   9132.0\n",
       "2016-02-29       1146000.0    1191000.0    1191000.0   1126000.0  15785.0\n",
       "2016-03-02       1186000.0    1151000.0    1186000.0   1147000.0  11657.0\n",
       "2016-03-03       1217000.0    1188000.0    1234000.0   1165000.0  12449.0\n",
       "2016-03-04       1070000.0    1199000.0    1199000.0   1061000.0  38274.0\n",
       "2016-03-07       1072000.0    1074000.0    1093000.0   1050000.0  15311.0\n",
       "2016-03-08       1037000.0    1063000.0    1069000.0   1026000.0  16237.0\n",
       "2016-03-09       1043000.0    1036000.0    1060000.0   1030000.0  15501.0\n",
       "2016-03-10       1043000.0    1046000.0    1050000.0   1035000.0   7210.0\n",
       "2016-03-11       1050000.0    1046000.0    1064000.0   1035000.0   8224.0\n",
       "2016-03-14       1018000.0    1054000.0    1056000.0   1017000.0  11893.0\n",
       "2016-03-15       1020000.0    1020000.0    1034000.0   1015000.0   9682.0\n",
       "2016-03-16       1033000.0    1018000.0    1045000.0   1018000.0   9122.0\n",
       "2016-03-17       1019000.0    1038000.0    1043000.0   1010000.0  11942.0\n",
       "...                    ...          ...          ...         ...      ...\n",
       "2017-10-26        770000.0     765000.0     775000.0    760000.0   2935.0\n",
       "2017-10-27        783000.0     769000.0     788000.0    766000.0   5871.0\n",
       "2017-10-30        765000.0     778000.0     782000.0    763000.0   5024.0\n",
       "2017-10-31        759000.0     760000.0     767000.0    758000.0   4602.0\n",
       "2017-11-01        751000.0     751000.0     762000.0    750000.0   6322.0\n",
       "2017-11-02        751000.0     751000.0     757000.0    749000.0   3632.0\n",
       "2017-11-03        757000.0     757000.0     759000.0    748000.0   2697.0\n",
       "2017-11-06        758000.0     756000.0     759000.0    753000.0   1928.0\n",
       "2017-11-07        749000.0     755000.0     762000.0    748000.0   4402.0\n",
       "2017-11-08        752000.0     747000.0     753000.0    742000.0   2979.0\n",
       "2017-11-09        770000.0     755000.0     775000.0    752000.0   8483.0\n",
       "2017-11-10        761000.0     771000.0     773000.0    758000.0   2593.0\n",
       "2017-11-13        757000.0     761000.0     767000.0    756000.0   2397.0\n",
       "2017-11-14        759000.0     757000.0     761000.0    753000.0   2421.0\n",
       "2017-11-15        753000.0     760000.0     760000.0    749000.0   3013.0\n",
       "2017-11-16        752000.0     760000.0     760000.0    748000.0   2176.0\n",
       "2017-11-17        789000.0     754000.0     789000.0    754000.0  17901.0\n",
       "2017-11-20        826000.0     795000.0     832000.0    793000.0  22021.0\n",
       "2017-11-21        826000.0     830000.0     844000.0    817000.0   9426.0\n",
       "2017-11-22        804000.0     826000.0     826000.0    802000.0   6265.0\n",
       "2017-11-23        810000.0     807000.0     814000.0    806000.0   2785.0\n",
       "2017-11-24        800000.0     810000.0     815000.0    800000.0   3308.0\n",
       "2017-11-27        808000.0     800000.0     818000.0    800000.0   4257.0\n",
       "2017-11-28        828000.0     810000.0     830000.0    809000.0   6571.0\n",
       "2017-11-29        809000.0     828000.0     828000.0    808000.0   4559.0\n",
       "2017-11-30        794000.0     818000.0     818000.0    794000.0   7751.0\n",
       "2017-12-01        791000.0     794000.0     797000.0    783000.0   4244.0\n",
       "2017-12-04        792000.0     791000.0     807000.0    785000.0   5899.0\n",
       "2017-12-05        820000.0     794000.0     820000.0    793000.0   7556.0\n",
       "2017-12-06        795000.0     819000.0     820000.0    793000.0   4281.0\n",
       "\n",
       "[454 rows x 5 columns]"
      ]
     },
     "execution_count": 9,
     "metadata": {},
     "output_type": "execute_result"
    }
   ],
   "source": [
    "df"
   ]
  },
  {
   "cell_type": "code",
   "execution_count": null,
   "metadata": {},
   "outputs": [],
   "source": []
  },
  {
   "cell_type": "markdown",
   "metadata": {},
   "source": [
    "### a) select _\"Row\"_ "
   ]
  },
  {
   "cell_type": "markdown",
   "metadata": {},
   "source": [
    "#### by iloc"
   ]
  },
  {
   "cell_type": "code",
   "execution_count": 10,
   "metadata": {},
   "outputs": [],
   "source": [
    "row_index = 9"
   ]
  },
  {
   "cell_type": "code",
   "execution_count": 11,
   "metadata": {},
   "outputs": [
    {
     "data": {
      "text/plain": [
       "close_prices    1230000.0\n",
       "open_prices     1300000.0\n",
       "high_prices     1325000.0\n",
       "low_prices      1205000.0\n",
       "volume            12108.0\n",
       "Name: 2016-02-17, dtype: float64"
      ]
     },
     "execution_count": 11,
     "metadata": {},
     "output_type": "execute_result"
    }
   ],
   "source": [
    "df.iloc[row_index]"
   ]
  },
  {
   "cell_type": "code",
   "execution_count": 12,
   "metadata": {},
   "outputs": [
    {
     "data": {
      "text/html": [
       "<div>\n",
       "<style scoped>\n",
       "    .dataframe tbody tr th:only-of-type {\n",
       "        vertical-align: middle;\n",
       "    }\n",
       "\n",
       "    .dataframe tbody tr th {\n",
       "        vertical-align: top;\n",
       "    }\n",
       "\n",
       "    .dataframe thead th {\n",
       "        text-align: right;\n",
       "    }\n",
       "</style>\n",
       "<table border=\"1\" class=\"dataframe\">\n",
       "  <thead>\n",
       "    <tr style=\"text-align: right;\">\n",
       "      <th></th>\n",
       "      <th>close_prices</th>\n",
       "      <th>open_prices</th>\n",
       "      <th>high_prices</th>\n",
       "      <th>low_prices</th>\n",
       "      <th>volume</th>\n",
       "    </tr>\n",
       "    <tr>\n",
       "      <th>market_dates</th>\n",
       "      <th></th>\n",
       "      <th></th>\n",
       "      <th></th>\n",
       "      <th></th>\n",
       "      <th></th>\n",
       "    </tr>\n",
       "  </thead>\n",
       "  <tbody>\n",
       "    <tr>\n",
       "      <th>2016-02-01</th>\n",
       "      <td>1384000.0</td>\n",
       "      <td>1414000.0</td>\n",
       "      <td>1425000.0</td>\n",
       "      <td>1360000.0</td>\n",
       "      <td>8577.0</td>\n",
       "    </tr>\n",
       "    <tr>\n",
       "      <th>2016-02-02</th>\n",
       "      <td>1409000.0</td>\n",
       "      <td>1361000.0</td>\n",
       "      <td>1423000.0</td>\n",
       "      <td>1361000.0</td>\n",
       "      <td>6317.0</td>\n",
       "    </tr>\n",
       "    <tr>\n",
       "      <th>2016-02-03</th>\n",
       "      <td>1410000.0</td>\n",
       "      <td>1408000.0</td>\n",
       "      <td>1433000.0</td>\n",
       "      <td>1398000.0</td>\n",
       "      <td>4121.0</td>\n",
       "    </tr>\n",
       "    <tr>\n",
       "      <th>2016-02-04</th>\n",
       "      <td>1381000.0</td>\n",
       "      <td>1416000.0</td>\n",
       "      <td>1418000.0</td>\n",
       "      <td>1380000.0</td>\n",
       "      <td>5039.0</td>\n",
       "    </tr>\n",
       "    <tr>\n",
       "      <th>2016-02-05</th>\n",
       "      <td>1259000.0</td>\n",
       "      <td>1381000.0</td>\n",
       "      <td>1381000.0</td>\n",
       "      <td>1254000.0</td>\n",
       "      <td>18153.0</td>\n",
       "    </tr>\n",
       "    <tr>\n",
       "      <th>2016-02-11</th>\n",
       "      <td>1242000.0</td>\n",
       "      <td>1250000.0</td>\n",
       "      <td>1263000.0</td>\n",
       "      <td>1230000.0</td>\n",
       "      <td>7384.0</td>\n",
       "    </tr>\n",
       "    <tr>\n",
       "      <th>2016-02-12</th>\n",
       "      <td>1180000.0</td>\n",
       "      <td>1230000.0</td>\n",
       "      <td>1240000.0</td>\n",
       "      <td>1142000.0</td>\n",
       "      <td>11311.0</td>\n",
       "    </tr>\n",
       "    <tr>\n",
       "      <th>2016-02-15</th>\n",
       "      <td>1274000.0</td>\n",
       "      <td>1198000.0</td>\n",
       "      <td>1279000.0</td>\n",
       "      <td>1195000.0</td>\n",
       "      <td>9462.0</td>\n",
       "    </tr>\n",
       "    <tr>\n",
       "      <th>2016-02-16</th>\n",
       "      <td>1298000.0</td>\n",
       "      <td>1263000.0</td>\n",
       "      <td>1323000.0</td>\n",
       "      <td>1263000.0</td>\n",
       "      <td>6873.0</td>\n",
       "    </tr>\n",
       "  </tbody>\n",
       "</table>\n",
       "</div>"
      ],
      "text/plain": [
       "              close_prices  open_prices  high_prices  low_prices   volume\n",
       "market_dates                                                             \n",
       "2016-02-01       1384000.0    1414000.0    1425000.0   1360000.0   8577.0\n",
       "2016-02-02       1409000.0    1361000.0    1423000.0   1361000.0   6317.0\n",
       "2016-02-03       1410000.0    1408000.0    1433000.0   1398000.0   4121.0\n",
       "2016-02-04       1381000.0    1416000.0    1418000.0   1380000.0   5039.0\n",
       "2016-02-05       1259000.0    1381000.0    1381000.0   1254000.0  18153.0\n",
       "2016-02-11       1242000.0    1250000.0    1263000.0   1230000.0   7384.0\n",
       "2016-02-12       1180000.0    1230000.0    1240000.0   1142000.0  11311.0\n",
       "2016-02-15       1274000.0    1198000.0    1279000.0   1195000.0   9462.0\n",
       "2016-02-16       1298000.0    1263000.0    1323000.0   1263000.0   6873.0"
      ]
     },
     "execution_count": 12,
     "metadata": {},
     "output_type": "execute_result"
    }
   ],
   "source": [
    "df.iloc[:row_index]"
   ]
  },
  {
   "cell_type": "code",
   "execution_count": null,
   "metadata": {},
   "outputs": [],
   "source": []
  },
  {
   "cell_type": "markdown",
   "metadata": {},
   "source": [
    "#### by loc"
   ]
  },
  {
   "cell_type": "code",
   "execution_count": 13,
   "metadata": {},
   "outputs": [],
   "source": [
    "date = df.index[row_index]"
   ]
  },
  {
   "cell_type": "code",
   "execution_count": 14,
   "metadata": {},
   "outputs": [
    {
     "data": {
      "text/plain": [
       "datetime.date(2016, 2, 17)"
      ]
     },
     "execution_count": 14,
     "metadata": {},
     "output_type": "execute_result"
    }
   ],
   "source": [
    "date"
   ]
  },
  {
   "cell_type": "code",
   "execution_count": 15,
   "metadata": {},
   "outputs": [
    {
     "data": {
      "text/plain": [
       "close_prices    1230000.0\n",
       "open_prices     1300000.0\n",
       "high_prices     1325000.0\n",
       "low_prices      1205000.0\n",
       "volume            12108.0\n",
       "Name: 2016-02-17, dtype: float64"
      ]
     },
     "execution_count": 15,
     "metadata": {},
     "output_type": "execute_result"
    }
   ],
   "source": [
    "df.loc[date]"
   ]
  },
  {
   "cell_type": "code",
   "execution_count": 16,
   "metadata": {},
   "outputs": [
    {
     "data": {
      "text/html": [
       "<div>\n",
       "<style scoped>\n",
       "    .dataframe tbody tr th:only-of-type {\n",
       "        vertical-align: middle;\n",
       "    }\n",
       "\n",
       "    .dataframe tbody tr th {\n",
       "        vertical-align: top;\n",
       "    }\n",
       "\n",
       "    .dataframe thead th {\n",
       "        text-align: right;\n",
       "    }\n",
       "</style>\n",
       "<table border=\"1\" class=\"dataframe\">\n",
       "  <thead>\n",
       "    <tr style=\"text-align: right;\">\n",
       "      <th></th>\n",
       "      <th>close_prices</th>\n",
       "      <th>open_prices</th>\n",
       "      <th>high_prices</th>\n",
       "      <th>low_prices</th>\n",
       "      <th>volume</th>\n",
       "    </tr>\n",
       "    <tr>\n",
       "      <th>market_dates</th>\n",
       "      <th></th>\n",
       "      <th></th>\n",
       "      <th></th>\n",
       "      <th></th>\n",
       "      <th></th>\n",
       "    </tr>\n",
       "  </thead>\n",
       "  <tbody>\n",
       "    <tr>\n",
       "      <th>2016-02-01</th>\n",
       "      <td>1384000.0</td>\n",
       "      <td>1414000.0</td>\n",
       "      <td>1425000.0</td>\n",
       "      <td>1360000.0</td>\n",
       "      <td>8577.0</td>\n",
       "    </tr>\n",
       "    <tr>\n",
       "      <th>2016-02-02</th>\n",
       "      <td>1409000.0</td>\n",
       "      <td>1361000.0</td>\n",
       "      <td>1423000.0</td>\n",
       "      <td>1361000.0</td>\n",
       "      <td>6317.0</td>\n",
       "    </tr>\n",
       "    <tr>\n",
       "      <th>2016-02-03</th>\n",
       "      <td>1410000.0</td>\n",
       "      <td>1408000.0</td>\n",
       "      <td>1433000.0</td>\n",
       "      <td>1398000.0</td>\n",
       "      <td>4121.0</td>\n",
       "    </tr>\n",
       "    <tr>\n",
       "      <th>2016-02-04</th>\n",
       "      <td>1381000.0</td>\n",
       "      <td>1416000.0</td>\n",
       "      <td>1418000.0</td>\n",
       "      <td>1380000.0</td>\n",
       "      <td>5039.0</td>\n",
       "    </tr>\n",
       "    <tr>\n",
       "      <th>2016-02-05</th>\n",
       "      <td>1259000.0</td>\n",
       "      <td>1381000.0</td>\n",
       "      <td>1381000.0</td>\n",
       "      <td>1254000.0</td>\n",
       "      <td>18153.0</td>\n",
       "    </tr>\n",
       "    <tr>\n",
       "      <th>2016-02-11</th>\n",
       "      <td>1242000.0</td>\n",
       "      <td>1250000.0</td>\n",
       "      <td>1263000.0</td>\n",
       "      <td>1230000.0</td>\n",
       "      <td>7384.0</td>\n",
       "    </tr>\n",
       "    <tr>\n",
       "      <th>2016-02-12</th>\n",
       "      <td>1180000.0</td>\n",
       "      <td>1230000.0</td>\n",
       "      <td>1240000.0</td>\n",
       "      <td>1142000.0</td>\n",
       "      <td>11311.0</td>\n",
       "    </tr>\n",
       "    <tr>\n",
       "      <th>2016-02-15</th>\n",
       "      <td>1274000.0</td>\n",
       "      <td>1198000.0</td>\n",
       "      <td>1279000.0</td>\n",
       "      <td>1195000.0</td>\n",
       "      <td>9462.0</td>\n",
       "    </tr>\n",
       "    <tr>\n",
       "      <th>2016-02-16</th>\n",
       "      <td>1298000.0</td>\n",
       "      <td>1263000.0</td>\n",
       "      <td>1323000.0</td>\n",
       "      <td>1263000.0</td>\n",
       "      <td>6873.0</td>\n",
       "    </tr>\n",
       "    <tr>\n",
       "      <th>2016-02-17</th>\n",
       "      <td>1230000.0</td>\n",
       "      <td>1300000.0</td>\n",
       "      <td>1325000.0</td>\n",
       "      <td>1205000.0</td>\n",
       "      <td>12108.0</td>\n",
       "    </tr>\n",
       "  </tbody>\n",
       "</table>\n",
       "</div>"
      ],
      "text/plain": [
       "              close_prices  open_prices  high_prices  low_prices   volume\n",
       "market_dates                                                             \n",
       "2016-02-01       1384000.0    1414000.0    1425000.0   1360000.0   8577.0\n",
       "2016-02-02       1409000.0    1361000.0    1423000.0   1361000.0   6317.0\n",
       "2016-02-03       1410000.0    1408000.0    1433000.0   1398000.0   4121.0\n",
       "2016-02-04       1381000.0    1416000.0    1418000.0   1380000.0   5039.0\n",
       "2016-02-05       1259000.0    1381000.0    1381000.0   1254000.0  18153.0\n",
       "2016-02-11       1242000.0    1250000.0    1263000.0   1230000.0   7384.0\n",
       "2016-02-12       1180000.0    1230000.0    1240000.0   1142000.0  11311.0\n",
       "2016-02-15       1274000.0    1198000.0    1279000.0   1195000.0   9462.0\n",
       "2016-02-16       1298000.0    1263000.0    1323000.0   1263000.0   6873.0\n",
       "2016-02-17       1230000.0    1300000.0    1325000.0   1205000.0  12108.0"
      ]
     },
     "execution_count": 16,
     "metadata": {},
     "output_type": "execute_result"
    }
   ],
   "source": [
    "df.loc[:date]"
   ]
  },
  {
   "cell_type": "code",
   "execution_count": null,
   "metadata": {},
   "outputs": [],
   "source": []
  },
  {
   "cell_type": "markdown",
   "metadata": {},
   "source": [
    "### b) select _\"Series\"_"
   ]
  },
  {
   "cell_type": "code",
   "execution_count": 17,
   "metadata": {},
   "outputs": [],
   "source": [
    "series = df['close_prices']"
   ]
  },
  {
   "cell_type": "code",
   "execution_count": 18,
   "metadata": {},
   "outputs": [
    {
     "data": {
      "text/plain": [
       "market_dates\n",
       "2016-02-01    1384000.0\n",
       "2016-02-02    1409000.0\n",
       "2016-02-03    1410000.0\n",
       "2016-02-04    1381000.0\n",
       "2016-02-05    1259000.0\n",
       "2016-02-11    1242000.0\n",
       "2016-02-12    1180000.0\n",
       "2016-02-15    1274000.0\n",
       "2016-02-16    1298000.0\n",
       "2016-02-17    1230000.0\n",
       "2016-02-18    1240000.0\n",
       "2016-02-19    1238000.0\n",
       "2016-02-22    1241000.0\n",
       "2016-02-23    1218000.0\n",
       "2016-02-24    1172000.0\n",
       "2016-02-25    1162000.0\n",
       "2016-02-26    1189000.0\n",
       "2016-02-29    1146000.0\n",
       "2016-03-02    1186000.0\n",
       "2016-03-03    1217000.0\n",
       "2016-03-04    1070000.0\n",
       "2016-03-07    1072000.0\n",
       "2016-03-08    1037000.0\n",
       "2016-03-09    1043000.0\n",
       "2016-03-10    1043000.0\n",
       "2016-03-11    1050000.0\n",
       "2016-03-14    1018000.0\n",
       "2016-03-15    1020000.0\n",
       "2016-03-16    1033000.0\n",
       "2016-03-17    1019000.0\n",
       "                ...    \n",
       "2017-10-26     770000.0\n",
       "2017-10-27     783000.0\n",
       "2017-10-30     765000.0\n",
       "2017-10-31     759000.0\n",
       "2017-11-01     751000.0\n",
       "2017-11-02     751000.0\n",
       "2017-11-03     757000.0\n",
       "2017-11-06     758000.0\n",
       "2017-11-07     749000.0\n",
       "2017-11-08     752000.0\n",
       "2017-11-09     770000.0\n",
       "2017-11-10     761000.0\n",
       "2017-11-13     757000.0\n",
       "2017-11-14     759000.0\n",
       "2017-11-15     753000.0\n",
       "2017-11-16     752000.0\n",
       "2017-11-17     789000.0\n",
       "2017-11-20     826000.0\n",
       "2017-11-21     826000.0\n",
       "2017-11-22     804000.0\n",
       "2017-11-23     810000.0\n",
       "2017-11-24     800000.0\n",
       "2017-11-27     808000.0\n",
       "2017-11-28     828000.0\n",
       "2017-11-29     809000.0\n",
       "2017-11-30     794000.0\n",
       "2017-12-01     791000.0\n",
       "2017-12-04     792000.0\n",
       "2017-12-05     820000.0\n",
       "2017-12-06     795000.0\n",
       "Name: close_prices, Length: 454, dtype: float64"
      ]
     },
     "execution_count": 18,
     "metadata": {},
     "output_type": "execute_result"
    }
   ],
   "source": [
    "series"
   ]
  },
  {
   "cell_type": "code",
   "execution_count": 19,
   "metadata": {},
   "outputs": [
    {
     "data": {
      "text/plain": [
       "pandas.core.frame.DataFrame"
      ]
     },
     "execution_count": 19,
     "metadata": {},
     "output_type": "execute_result"
    }
   ],
   "source": [
    "type(df)"
   ]
  },
  {
   "cell_type": "code",
   "execution_count": 20,
   "metadata": {},
   "outputs": [
    {
     "data": {
      "text/plain": [
       "pandas.core.series.Series"
      ]
     },
     "execution_count": 20,
     "metadata": {},
     "output_type": "execute_result"
    }
   ],
   "source": [
    "type(df['close_prices'])"
   ]
  },
  {
   "cell_type": "code",
   "execution_count": 21,
   "metadata": {},
   "outputs": [
    {
     "data": {
      "text/plain": [
       "1230000.0"
      ]
     },
     "execution_count": 21,
     "metadata": {},
     "output_type": "execute_result"
    }
   ],
   "source": [
    "series[row_index]"
   ]
  },
  {
   "cell_type": "code",
   "execution_count": 22,
   "metadata": {},
   "outputs": [
    {
     "data": {
      "text/plain": [
       "market_dates\n",
       "2016-02-01    1384000.0\n",
       "2016-02-02    1409000.0\n",
       "2016-02-03    1410000.0\n",
       "2016-02-04    1381000.0\n",
       "2016-02-05    1259000.0\n",
       "2016-02-11    1242000.0\n",
       "2016-02-12    1180000.0\n",
       "2016-02-15    1274000.0\n",
       "2016-02-16    1298000.0\n",
       "Name: close_prices, dtype: float64"
      ]
     },
     "execution_count": 22,
     "metadata": {},
     "output_type": "execute_result"
    }
   ],
   "source": [
    "series[:row_index]"
   ]
  },
  {
   "cell_type": "code",
   "execution_count": null,
   "metadata": {},
   "outputs": [],
   "source": []
  },
  {
   "cell_type": "markdown",
   "metadata": {},
   "source": [
    "---"
   ]
  },
  {
   "cell_type": "markdown",
   "metadata": {},
   "source": [
    "### 02_02. plotly candlestick-graph"
   ]
  },
  {
   "cell_type": "markdown",
   "metadata": {},
   "source": [
    "### a) show interactive graph"
   ]
  },
  {
   "cell_type": "code",
   "execution_count": 23,
   "metadata": {},
   "outputs": [
    {
     "data": {
      "text/html": [
       "<script>requirejs.config({paths: { 'plotly': ['https://cdn.plot.ly/plotly-latest.min']},});if(!window.Plotly) {{require(['plotly'],function(plotly) {window.Plotly=plotly;});}}</script>"
      ],
      "text/vnd.plotly.v1+html": [
       "<script>requirejs.config({paths: { 'plotly': ['https://cdn.plot.ly/plotly-latest.min']},});if(!window.Plotly) {{require(['plotly'],function(plotly) {window.Plotly=plotly;});}}</script>"
      ]
     },
     "metadata": {},
     "output_type": "display_data"
    },
    {
     "data": {
      "text/html": [
       "<iframe id=\"igraph\" scrolling=\"no\" style=\"border:none;\" seamless=\"seamless\" src=\"https://plot.ly/~JiHyunPark/5.embed\" height=\"525px\" width=\"100%\"></iframe>"
      ],
      "text/plain": [
       "<plotly.tools.PlotlyDisplay object>"
      ]
     },
     "execution_count": 23,
     "metadata": {},
     "output_type": "execute_result"
    }
   ],
   "source": [
    "from plotly.offline import download_plotlyjs, init_notebook_mode\n",
    "import plotly.plotly as py\n",
    "\n",
    "init_notebook_mode(connected=True)\n",
    "fig = DataDecorator.set_candelstick_data(df=df, name=names[index_num], stock_item=stock_items[index_num])\n",
    "py.iplot(fig, filename='candlestick')"
   ]
  },
  {
   "cell_type": "markdown",
   "metadata": {},
   "source": [
    "- **link: [candlestick-graph](https://plot.ly/~JiHyunPark/5/_007310/)**"
   ]
  },
  {
   "cell_type": "markdown",
   "metadata": {},
   "source": [
    "### b) save as a static image"
   ]
  },
  {
   "cell_type": "code",
   "execution_count": 24,
   "metadata": {},
   "outputs": [
    {
     "data": {
      "image/png": "[encoded data removed]",
      "text/plain": [
       "<IPython.core.display.Image object>"
      ]
     },
     "execution_count": 24,
     "metadata": {
      "image/png": {
       "height": 900,
       "width": 1300
      }
     },
     "output_type": "execute_result"
    }
   ],
   "source": [
    "py.image.save_as(fig, filename='./fig/candlestick.png')\n",
    "from IPython.display import Image\n",
    "Image('./fig/candlestick.png', width=1300, height=900)"
   ]
  },
  {
   "cell_type": "markdown",
   "metadata": {},
   "source": [
    "---"
   ]
  },
  {
   "cell_type": "markdown",
   "metadata": {},
   "source": [
    "# 03. Clustering"
   ]
  },
  {
   "cell_type": "code",
   "execution_count": 25,
   "metadata": {},
   "outputs": [],
   "source": [
    "from cluster import Cluster"
   ]
  },
  {
   "cell_type": "markdown",
   "metadata": {},
   "source": [
    "- **src: [cluster.py](https://github.com/jhyun0919/skku_python_proj/blob/master/codes/cluster.py)**\n",
    "- **src: [dataDecorator.py](https://github.com/jhyun0919/skku_python_proj/blob/master/codes/dataDecorator.py)**"
   ]
  },
  {
   "cell_type": "markdown",
   "metadata": {},
   "source": [
    "### 03_01. set clusters with _affinity propagation_"
   ]
  },
  {
   "cell_type": "code",
   "execution_count": 26,
   "metadata": {},
   "outputs": [
    {
     "name": "stdout",
     "output_type": "stream",
     "text": [
      "Cluster 1: 기아차, 현대차, 삼성중공업\n",
      "Cluster 2: sk하이닉스, 삼성전자, LG디스플레이, 카카오\n",
      "Cluster 3: 대한항공, 아시아나항공\n",
      "Cluster 4: 신세계, 호텔신라, 현대백화점, 하이마트, 이마트\n",
      "Cluster 5: 현대중공업, 대우조선해양\n",
      "Cluster 6: 두산, 한화, 효성, 한화케미칼, LG화학\n",
      "Cluster 7: 현대제철, S오일, LG전자, sk이노베이션\n",
      "Cluster 8: SKT, KT, LG유플러스, SK\n",
      "Cluster 9: JYP엔터, ncsoft, 한국한공우주, 셀트리온, 셀트리온제약\n",
      "Cluster 10: sm엔터, LG생활건강, 아모레퍼시픽\n",
      "Cluster 11: CJ, 오뚜기, CJ제일제당\n",
      "Cluster 12: 기업은행, 삼성카드, 네이버, 신한지주, KB금융\n"
     ]
    }
   ],
   "source": [
    "edge_model, embedding, names, n_labels, labels = Cluster.affinity(quotes=quotes)"
   ]
  },
  {
   "cell_type": "markdown",
   "metadata": {},
   "source": [
    "### 03_02. visualize the clusters"
   ]
  },
  {
   "cell_type": "code",
   "execution_count": 27,
   "metadata": {},
   "outputs": [
    {
     "data": {
      "image/png": "[encoded data removed]",
      "text/plain": [
       "<matplotlib.figure.Figure at 0x10c429438>"
      ]
     },
     "metadata": {},
     "output_type": "display_data"
    }
   ],
   "source": [
    "DataDecorator.show_cluster(edge_model, embedding, names, n_labels, labels)"
   ]
  },
  {
   "cell_type": "markdown",
   "metadata": {},
   "source": [
    "---"
   ]
  },
  {
   "cell_type": "markdown",
   "metadata": {},
   "source": [
    "# 04. Reference\n",
    "* [NAVER를 통한 주식정보 크롤링 by Jaeyeon Baek](http://estenpark.tistory.com/353)\n",
    "* [Visualizing the Stock Market Structure](http://scikit-learn.org/stable/auto_examples/applications/plot_stock_market.html)\n",
    "* [plotly : Candlestick-Chart](https://plot.ly/python/candlestick-charts/)"
   ]
  },
  {
   "cell_type": "code",
   "execution_count": null,
   "metadata": {},
   "outputs": [],
   "source": []
  }
 ],
 "metadata": {
  "kernelspec": {
   "display_name": "Python 3",
   "language": "python",
   "name": "python3"
  },
  "language_info": {
   "codemirror_mode": {
    "name": "ipython",
    "version": 3
   },
   "file_extension": ".py",
   "mimetype": "text/x-python",
   "name": "python",
   "nbconvert_exporter": "python",
   "pygments_lexer": "ipython3",
   "version": "3.6.3"
  }
 },
 "nbformat": 4,
 "nbformat_minor": 2
}
