{
 "cells": [
  {
   "cell_type": "markdown",
   "metadata": {},
   "source": [
    "# 01. Parse Historical Finance Data with Beatifulsoup"
   ]
  },
  {
   "cell_type": "code",
   "execution_count": 1,
   "metadata": {},
   "outputs": [],
   "source": [
    "from financeDataParser import FinanceDataParser"
   ]
  },
  {
   "cell_type": "markdown",
   "metadata": {},
   "source": [
    "[related-code](https://github.com/jhyun0919/skku_python_proj/blob/master/codes/financeDataParser.py)"
   ]
  },
  {
   "cell_type": "markdown",
   "metadata": {},
   "source": [
    "- 직접 구한 기업들 목록 더 추가할 필요\n",
    "    - 해당구간 내에 상장된 것들로 선별해야함"
   ]
  },
  {
   "cell_type": "code",
   "execution_count": 3,
   "metadata": {},
   "outputs": [],
   "source": [
    "parser = FinanceDataParser()"
   ]
  },
  {
   "cell_type": "code",
   "execution_count": 4,
   "metadata": {},
   "outputs": [
    {
     "name": "stdout",
     "output_type": "stream",
     "text": [
      "1.\tfetching quote history for \"두산\"\n",
      "2.\tfetching quote history for \"sk하이닉스\"\n",
      "3.\tfetching quote history for \"한화\"\n",
      "4.\tfetching quote history for \"롯데푸드\"\n",
      "5.\tfetching quote history for \"현대제철\"\n",
      "6.\tfetching quote history for \"현대차\"\n",
      "7.\tfetching quote history for \"posco\"\n",
      "8.\tfetching quote history for \"naver\"\n",
      "9.\tfetching quote history for \"skt\"\n",
      "10.\tfetching quote history for \"롯데쇼핑\"\n",
      "11.\tfetching quote history for \"kt\"\n",
      "12.\tfetching quote history for \"lg-Uplus\"\n",
      "13.\tfetching quote history for \"sk\"\n",
      "14.\tfetching quote history for \"kakao\"\n",
      "15.\tfetching quote history for \"ncsoft\"\n",
      "16.\tfetching quote history for \"lg전자\"\n"
     ]
    }
   ],
   "source": [
    "quotes = parser.quotes_historical_finance(start_date='2015.01.01')"
   ]
  },
  {
   "cell_type": "markdown",
   "metadata": {},
   "source": [
    "---"
   ]
  },
  {
   "cell_type": "markdown",
   "metadata": {},
   "source": [
    "# 02. Show Historical Finance Data"
   ]
  },
  {
   "cell_type": "code",
   "execution_count": 5,
   "metadata": {},
   "outputs": [],
   "source": [
    "from dataDecorator import DataDecorator"
   ]
  },
  {
   "cell_type": "markdown",
   "metadata": {},
   "source": [
    "[related-code](https://github.com/jhyun0919/skku_python_proj/blob/master/codes/dataDecorator.py)"
   ]
  },
  {
   "cell_type": "markdown",
   "metadata": {},
   "source": [
    "- idx 말고 기업 이름으로 넣어서 검색되도록 바꿀 것"
   ]
  },
  {
   "cell_type": "markdown",
   "metadata": {},
   "source": [
    "### 02_01. pandas dataframe"
   ]
  },
  {
   "cell_type": "code",
   "execution_count": 6,
   "metadata": {},
   "outputs": [],
   "source": [
    "i = 1\n",
    "\n",
    "df = DataDecorator.set_dataframe(idx=i, quotes=quotes)"
   ]
  },
  {
   "cell_type": "code",
   "execution_count": 7,
   "metadata": {},
   "outputs": [
    {
     "data": {
      "text/html": [
       "<div>\n",
       "<style scoped>\n",
       "    .dataframe tbody tr th:only-of-type {\n",
       "        vertical-align: middle;\n",
       "    }\n",
       "\n",
       "    .dataframe tbody tr th {\n",
       "        vertical-align: top;\n",
       "    }\n",
       "\n",
       "    .dataframe thead th {\n",
       "        text-align: right;\n",
       "    }\n",
       "</style>\n",
       "<table border=\"1\" class=\"dataframe\">\n",
       "  <thead>\n",
       "    <tr style=\"text-align: right;\">\n",
       "      <th></th>\n",
       "      <th>close_prices</th>\n",
       "      <th>open_prices</th>\n",
       "      <th>high_prices</th>\n",
       "      <th>low_prices</th>\n",
       "      <th>volume</th>\n",
       "    </tr>\n",
       "    <tr>\n",
       "      <th>market_dates</th>\n",
       "      <th></th>\n",
       "      <th></th>\n",
       "      <th></th>\n",
       "      <th></th>\n",
       "      <th></th>\n",
       "    </tr>\n",
       "  </thead>\n",
       "  <tbody>\n",
       "    <tr>\n",
       "      <th>2015-01-02</th>\n",
       "      <td>47750.0</td>\n",
       "      <td>47950.0</td>\n",
       "      <td>48400.0</td>\n",
       "      <td>47650.0</td>\n",
       "      <td>1155944.0</td>\n",
       "    </tr>\n",
       "    <tr>\n",
       "      <th>2015-01-05</th>\n",
       "      <td>47650.0</td>\n",
       "      <td>48050.0</td>\n",
       "      <td>48400.0</td>\n",
       "      <td>47500.0</td>\n",
       "      <td>1409146.0</td>\n",
       "    </tr>\n",
       "    <tr>\n",
       "      <th>2015-01-06</th>\n",
       "      <td>47500.0</td>\n",
       "      <td>47000.0</td>\n",
       "      <td>47600.0</td>\n",
       "      <td>46900.0</td>\n",
       "      <td>1661196.0</td>\n",
       "    </tr>\n",
       "    <tr>\n",
       "      <th>2015-01-07</th>\n",
       "      <td>47400.0</td>\n",
       "      <td>46700.0</td>\n",
       "      <td>47600.0</td>\n",
       "      <td>46700.0</td>\n",
       "      <td>1821266.0</td>\n",
       "    </tr>\n",
       "    <tr>\n",
       "      <th>2015-01-08</th>\n",
       "      <td>49950.0</td>\n",
       "      <td>48250.0</td>\n",
       "      <td>50000.0</td>\n",
       "      <td>47900.0</td>\n",
       "      <td>5006675.0</td>\n",
       "    </tr>\n",
       "  </tbody>\n",
       "</table>\n",
       "</div>"
      ],
      "text/plain": [
       "              close_prices  open_prices  high_prices  low_prices     volume\n",
       "market_dates                                                               \n",
       "2015-01-02         47750.0      47950.0      48400.0     47650.0  1155944.0\n",
       "2015-01-05         47650.0      48050.0      48400.0     47500.0  1409146.0\n",
       "2015-01-06         47500.0      47000.0      47600.0     46900.0  1661196.0\n",
       "2015-01-07         47400.0      46700.0      47600.0     46700.0  1821266.0\n",
       "2015-01-08         49950.0      48250.0      50000.0     47900.0  5006675.0"
      ]
     },
     "execution_count": 7,
     "metadata": {},
     "output_type": "execute_result"
    }
   ],
   "source": [
    "df.head()"
   ]
  },
  {
   "cell_type": "code",
   "execution_count": 8,
   "metadata": {},
   "outputs": [
    {
     "data": {
      "text/html": [
       "<div>\n",
       "<style scoped>\n",
       "    .dataframe tbody tr th:only-of-type {\n",
       "        vertical-align: middle;\n",
       "    }\n",
       "\n",
       "    .dataframe tbody tr th {\n",
       "        vertical-align: top;\n",
       "    }\n",
       "\n",
       "    .dataframe thead th {\n",
       "        text-align: right;\n",
       "    }\n",
       "</style>\n",
       "<table border=\"1\" class=\"dataframe\">\n",
       "  <thead>\n",
       "    <tr style=\"text-align: right;\">\n",
       "      <th></th>\n",
       "      <th>close_prices</th>\n",
       "      <th>open_prices</th>\n",
       "      <th>high_prices</th>\n",
       "      <th>low_prices</th>\n",
       "      <th>volume</th>\n",
       "    </tr>\n",
       "    <tr>\n",
       "      <th>market_dates</th>\n",
       "      <th></th>\n",
       "      <th></th>\n",
       "      <th></th>\n",
       "      <th></th>\n",
       "      <th></th>\n",
       "    </tr>\n",
       "  </thead>\n",
       "  <tbody>\n",
       "    <tr>\n",
       "      <th>2017-11-03</th>\n",
       "      <td>84400.0</td>\n",
       "      <td>83400.0</td>\n",
       "      <td>84500.0</td>\n",
       "      <td>81900.0</td>\n",
       "      <td>4050123.0</td>\n",
       "    </tr>\n",
       "    <tr>\n",
       "      <th>2017-11-06</th>\n",
       "      <td>83500.0</td>\n",
       "      <td>83600.0</td>\n",
       "      <td>84100.0</td>\n",
       "      <td>83000.0</td>\n",
       "      <td>3131468.0</td>\n",
       "    </tr>\n",
       "    <tr>\n",
       "      <th>2017-11-07</th>\n",
       "      <td>82400.0</td>\n",
       "      <td>82800.0</td>\n",
       "      <td>83300.0</td>\n",
       "      <td>82200.0</td>\n",
       "      <td>2993945.0</td>\n",
       "    </tr>\n",
       "    <tr>\n",
       "      <th>2017-11-08</th>\n",
       "      <td>83200.0</td>\n",
       "      <td>82100.0</td>\n",
       "      <td>84400.0</td>\n",
       "      <td>81800.0</td>\n",
       "      <td>3396387.0</td>\n",
       "    </tr>\n",
       "    <tr>\n",
       "      <th>2017-11-09</th>\n",
       "      <td>82400.0</td>\n",
       "      <td>83200.0</td>\n",
       "      <td>83500.0</td>\n",
       "      <td>81600.0</td>\n",
       "      <td>3738456.0</td>\n",
       "    </tr>\n",
       "  </tbody>\n",
       "</table>\n",
       "</div>"
      ],
      "text/plain": [
       "              close_prices  open_prices  high_prices  low_prices     volume\n",
       "market_dates                                                               \n",
       "2017-11-03         84400.0      83400.0      84500.0     81900.0  4050123.0\n",
       "2017-11-06         83500.0      83600.0      84100.0     83000.0  3131468.0\n",
       "2017-11-07         82400.0      82800.0      83300.0     82200.0  2993945.0\n",
       "2017-11-08         83200.0      82100.0      84400.0     81800.0  3396387.0\n",
       "2017-11-09         82400.0      83200.0      83500.0     81600.0  3738456.0"
      ]
     },
     "execution_count": 8,
     "metadata": {},
     "output_type": "execute_result"
    }
   ],
   "source": [
    "df.tail()"
   ]
  },
  {
   "cell_type": "markdown",
   "metadata": {},
   "source": [
    "### 02_02. plotly candlestick-graph"
   ]
  },
  {
   "cell_type": "code",
   "execution_count": 10,
   "metadata": {},
   "outputs": [
    {
     "data": {
      "text/html": [
       "<iframe id=\"igraph\" scrolling=\"no\" style=\"border:none;\" seamless=\"seamless\" src=\"https://plot.ly/~JiHyunPark/3.embed\" height=\"525px\" width=\"100%\"></iframe>"
      ],
      "text/plain": [
       "<plotly.tools.PlotlyDisplay object>"
      ]
     },
     "execution_count": 10,
     "metadata": {},
     "output_type": "execute_result"
    }
   ],
   "source": [
    "import plotly.plotly as py\n",
    "\n",
    "fig = DataDecorator.set_candelstick_data(df=df)\n",
    "py.iplot(fig, filename='simple_candlestick')"
   ]
  },
  {
   "cell_type": "markdown",
   "metadata": {},
   "source": [
    "---"
   ]
  },
  {
   "cell_type": "markdown",
   "metadata": {},
   "source": [
    "# 03. Clustering"
   ]
  },
  {
   "cell_type": "code",
   "execution_count": 12,
   "metadata": {},
   "outputs": [],
   "source": [
    "from cluster import Cluster"
   ]
  },
  {
   "cell_type": "markdown",
   "metadata": {},
   "source": [
    "[related-code](https://github.com/jhyun0919/skku_python_proj/blob/master/codes/cluster.py)"
   ]
  },
  {
   "cell_type": "code",
   "execution_count": 14,
   "metadata": {},
   "outputs": [
    {
     "name": "stdout",
     "output_type": "stream",
     "text": [
      "Cluster 1: sk하이닉스, naver, sk, kakao, ncsoft\n",
      "Cluster 2: 롯데푸드, 롯데쇼핑\n",
      "Cluster 3: 두산, 한화, 현대제철, 현대차, posco, lg전자\n",
      "Cluster 4: skt, kt, lg-Uplus\n"
     ]
    }
   ],
   "source": [
    "edge_model, embedding, names, n_labels, labels = Cluster.affinity(quotes=quotes)"
   ]
  },
  {
   "cell_type": "code",
   "execution_count": 16,
   "metadata": {},
   "outputs": [
    {
     "data": {
      "image/png": "[encoded data removed]",
      "text/plain": [
       "<matplotlib.figure.Figure at 0x1153ba860>"
      ]
     },
     "metadata": {},
     "output_type": "display_data"
    }
   ],
   "source": [
    "DataDecorator.show_cluster(edge_model, embedding, names, n_labels, labels)"
   ]
  },
  {
   "cell_type": "markdown",
   "metadata": {},
   "source": [
    "---"
   ]
  },
  {
   "cell_type": "markdown",
   "metadata": {},
   "source": [
    "# 04. Reference\n",
    "* [NAVER를 통한 주식정보 크롤링 by Jaeyeon Baek](http://estenpark.tistory.com/353)\n",
    "* [Visualizing the Stock Market Structure](http://scikit-learn.org/stable/auto_examples/applications/plot_stock_market.html)\n",
    "* [plotly : Candlestick-Chart](https://plot.ly/python/candlestick-charts/)"
   ]
  },
  {
   "cell_type": "code",
   "execution_count": null,
   "metadata": {},
   "outputs": [],
   "source": []
  }
 ],
 "metadata": {
  "kernelspec": {
   "display_name": "Python 3",
   "language": "python",
   "name": "python3"
  },
  "language_info": {
   "codemirror_mode": {
    "name": "ipython",
    "version": 3
   },
   "file_extension": ".py",
   "mimetype": "text/x-python",
   "name": "python",
   "nbconvert_exporter": "python",
   "pygments_lexer": "ipython3",
   "version": "3.6.3"
  }
 },
 "nbformat": 4,
 "nbformat_minor": 2
}
