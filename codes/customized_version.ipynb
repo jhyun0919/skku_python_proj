{
 "cells": [
  {
   "cell_type": "markdown",
   "metadata": {},
   "source": [
    "# 01. Parse Historical Finance Data with Beatifulsoup"
   ]
  },
  {
   "cell_type": "code",
   "execution_count": 1,
   "metadata": {},
   "outputs": [],
   "source": [
    "from financeDataParser import FinanceDataParser"
   ]
  },
  {
   "cell_type": "markdown",
   "metadata": {},
   "source": [
    "[related-code](https://github.com/jhyun0919/skku_python_proj/blob/master/codes/financeDataParser.py)"
   ]
  },
  {
   "cell_type": "markdown",
   "metadata": {},
   "source": [
    "- 직접 구한 기업들 목록 더 추가할 필요\n",
    "    - 해당구간 내에 상장된 것들로 선별해야함"
   ]
  },
  {
   "cell_type": "code",
   "execution_count": null,
   "metadata": {},
   "outputs": [],
   "source": [
    "parser = FinanceDataParser()"
   ]
  },
  {
   "cell_type": "code",
   "execution_count": null,
   "metadata": {},
   "outputs": [
    {
     "name": "stdout",
     "output_type": "stream",
     "text": [
      "1.\tfetching quote history for \"두산\"\n",
      "2.\tfetching quote history for \"기아차\"\n",
      "3.\tfetching quote history for \"sk하이닉스\"\n",
      "4.\tfetching quote history for \"한화\"\n",
      "5.\tfetching quote history for \"CJ\"\n",
      "6.\tfetching quote history for \"현대제철\"\n",
      "7.\tfetching quote history for \"신세계\"\n",
      "8.\tfetching quote history for \"효성\"\n",
      "9.\tfetching quote history for \"현대차\"\n",
      "10.\tfetching quote history for \"posco\"\n",
      "11.\tfetching quote history for \"삼성전자\"\n",
      "12.\tfetching quote history for \"오뚜기\"\n",
      "13.\tfetching quote history for \"호텔신라\"\n",
      "14.\tfetching quote history for \"한화테크윈\"\n",
      "15.\tfetching quote history for \"한국전력\"\n"
     ]
    }
   ],
   "source": [
    "quotes = parser.quotes_historical_finance(start_date='2016.01.01')"
   ]
  },
  {
   "cell_type": "markdown",
   "metadata": {},
   "source": [
    "---"
   ]
  },
  {
   "cell_type": "markdown",
   "metadata": {},
   "source": [
    "# 02. Show Historical Finance Data"
   ]
  },
  {
   "cell_type": "code",
   "execution_count": null,
   "metadata": {},
   "outputs": [],
   "source": [
    "from dataDecorator import DataDecorator"
   ]
  },
  {
   "cell_type": "markdown",
   "metadata": {},
   "source": [
    "[related-code](https://github.com/jhyun0919/skku_python_proj/blob/master/codes/dataDecorator.py)"
   ]
  },
  {
   "cell_type": "markdown",
   "metadata": {},
   "source": [
    "- idx 말고 기업 이름으로 넣어서 검색되도록 바꿀 것"
   ]
  },
  {
   "cell_type": "markdown",
   "metadata": {},
   "source": [
    "### 02_01. pandas dataframe"
   ]
  },
  {
   "cell_type": "code",
   "execution_count": null,
   "metadata": {},
   "outputs": [],
   "source": [
    "i = 1\n",
    "\n",
    "df = DataDecorator.set_dataframe(idx=i, quotes=quotes)"
   ]
  },
  {
   "cell_type": "code",
   "execution_count": null,
   "metadata": {},
   "outputs": [],
   "source": [
    "df.head()"
   ]
  },
  {
   "cell_type": "code",
   "execution_count": null,
   "metadata": {},
   "outputs": [],
   "source": [
    "df.tail()"
   ]
  },
  {
   "cell_type": "markdown",
   "metadata": {},
   "source": [
    "### 02_02. plotly candlestick-graph"
   ]
  },
  {
   "cell_type": "code",
   "execution_count": null,
   "metadata": {},
   "outputs": [],
   "source": [
    "from plotly.offline import download_plotlyjs, init_notebook_mode\n",
    "import plotly.plotly as py\n",
    "init_notebook_mode()\n",
    "fig = DataDecorator.set_candelstick_data(df=df)\n",
    "py.iplot(fig, filename='simple_candlestick')"
   ]
  },
  {
   "cell_type": "markdown",
   "metadata": {},
   "source": [
    "---"
   ]
  },
  {
   "cell_type": "markdown",
   "metadata": {},
   "source": [
    "# 03. Clustering"
   ]
  },
  {
   "cell_type": "code",
   "execution_count": null,
   "metadata": {},
   "outputs": [],
   "source": [
    "from cluster import Cluster"
   ]
  },
  {
   "cell_type": "markdown",
   "metadata": {},
   "source": [
    "[related-code](https://github.com/jhyun0919/skku_python_proj/blob/master/codes/cluster.py)"
   ]
  },
  {
   "cell_type": "code",
   "execution_count": null,
   "metadata": {},
   "outputs": [],
   "source": [
    "edge_model, embedding, names, n_labels, labels = Cluster.affinity(quotes=quotes)"
   ]
  },
  {
   "cell_type": "code",
   "execution_count": null,
   "metadata": {},
   "outputs": [],
   "source": [
    "DataDecorator.show_cluster(edge_model, embedding, names, n_labels, labels)"
   ]
  },
  {
   "cell_type": "markdown",
   "metadata": {},
   "source": [
    "---"
   ]
  },
  {
   "cell_type": "markdown",
   "metadata": {},
   "source": [
    "# 04. Reference\n",
    "* [NAVER를 통한 주식정보 크롤링 by Jaeyeon Baek](http://estenpark.tistory.com/353)\n",
    "* [Visualizing the Stock Market Structure](http://scikit-learn.org/stable/auto_examples/applications/plot_stock_market.html)\n",
    "* [plotly : Candlestick-Chart](https://plot.ly/python/candlestick-charts/)"
   ]
  },
  {
   "cell_type": "code",
   "execution_count": null,
   "metadata": {},
   "outputs": [],
   "source": []
  }
 ],
 "metadata": {
  "kernelspec": {
   "display_name": "Python 3",
   "language": "python",
   "name": "python3"
  },
  "language_info": {
   "codemirror_mode": {
    "name": "ipython",
    "version": 3
   },
   "file_extension": ".py",
   "mimetype": "text/x-python",
   "name": "python",
   "nbconvert_exporter": "python",
   "pygments_lexer": "ipython3",
   "version": "3.6.3"
  }
 },
 "nbformat": 4,
 "nbformat_minor": 2
}
