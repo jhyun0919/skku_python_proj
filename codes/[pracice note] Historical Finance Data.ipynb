{
 "cells": [
  {
   "cell_type": "markdown",
   "metadata": {},
   "source": [
    "# 00. Intro"
   ]
  },
  {
   "cell_type": "markdown",
   "metadata": {},
   "source": [
    "Through **[BeatfulSoup](https://www.crummy.com/software/BeautifulSoup/bs4/doc/)**, parse historical finance data of Korean companies(#45).   \n",
    "\n",
    "With **[pandas](https://pandas.pydata.org)** & **[plotly](https://plot.ly/python/)**, refine the data and plot a graph of it for easy understanding.   \n",
    "\n",
    "Finally, with **[affinity clustering](http://scikit-learn.org/stable/modules/generated/sklearn.cluster.AffinityPropagation.html)** from **[scikit-learn](http://scikit-learn.org/stable/)**,  \n",
    "we show that the financial data trend of each company can grasp the **_\"relation & tendency among companies\"_**.\n",
    "\n",
    "---\n",
    "\n",
    "### Contents\n",
    "\n",
    "**1. Parse Historical Finance Data with BeatfulSoup**\n",
    "\n",
    "**2. Show Historical Finance Data**\n",
    "\n",
    "**3. Clustering**"
   ]
  },
  {
   "cell_type": "markdown",
   "metadata": {},
   "source": [
    "---"
   ]
  },
  {
   "cell_type": "markdown",
   "metadata": {},
   "source": [
    "### setting the envirinment"
   ]
  },
  {
   "cell_type": "markdown",
   "metadata": {},
   "source": [
    "- **[requirements.txt](https://github.com/jhyun0919/skku_python_proj/blob/master/codes/requirements.txt)**"
   ]
  },
  {
   "cell_type": "markdown",
   "metadata": {},
   "source": [
    "```\n",
    "$ pip install -r requirements.txt\n",
    "```"
   ]
  },
  {
   "cell_type": "markdown",
   "metadata": {},
   "source": [
    "---"
   ]
  },
  {
   "cell_type": "markdown",
   "metadata": {},
   "source": [
    "# 01. Parse Historical Finance Data with BeatifulSoup"
   ]
  },
  {
   "cell_type": "markdown",
   "metadata": {},
   "source": [
    "###  01_01. parse historical finance data @ [NAVER 금융](http://finance.naver.com) "
   ]
  },
  {
   "cell_type": "code",
   "execution_count": 1,
   "metadata": {},
   "outputs": [],
   "source": [
    "from financeDataParser import FinanceDataParser"
   ]
  },
  {
   "cell_type": "markdown",
   "metadata": {},
   "source": [
    "- **src: [financeDataParser.py](https://github.com/jhyun0919/skku_python_proj/blob/master/codes/financeDataParser.py)**"
   ]
  },
  {
   "cell_type": "code",
   "execution_count": 2,
   "metadata": {},
   "outputs": [],
   "source": [
    "parser = FinanceDataParser()"
   ]
  },
  {
   "cell_type": "markdown",
   "metadata": {},
   "source": [
    " - **e.g. [삼성전자(보통주) 일별 시세 주소](http://finance.naver.com/item/sise_day.nhn?code=005930)**"
   ]
  },
  {
   "cell_type": "code",
   "execution_count": 3,
   "metadata": {},
   "outputs": [
    {
     "name": "stdout",
     "output_type": "stream",
     "text": [
      "> parsing historical finance data\n",
      "\t- index_num : 0.\tfetching quote history of \"두산\"\n",
      "\t- index_num : 1.\tfetching quote history of \"기아차\"\n",
      "\t- index_num : 2.\tfetching quote history of \"sk하이닉스\"\n",
      "\t- index_num : 3.\tfetching quote history of \"한화\"\n",
      "\t- index_num : 4.\tfetching quote history of \"CJ\"\n",
      "\t- index_num : 5.\tfetching quote history of \"대한항공\"\n",
      "\t- index_num : 6.\tfetching quote history of \"현대제철\"\n",
      "\t- index_num : 7.\tfetching quote history of \"신세계\"\n",
      "\t- index_num : 8.\tfetching quote history of \"효성\"\n",
      "\t- index_num : 9.\tfetching quote history of \"현대차\"\n",
      "\t- index_num : 10.\tfetching quote history of \"삼성전자\"\n",
      "\t- index_num : 11.\tfetching quote history of \"오뚜기\"\n",
      "\t- index_num : 12.\tfetching quote history of \"호텔신라\"\n",
      "\t- index_num : 13.\tfetching quote history of \"현대중공업\"\n",
      "\t- index_num : 14.\tfetching quote history of \"한화케미칼\"\n",
      "\t- index_num : 15.\tfetching quote history of \"삼성중공업\"\n",
      "\t- index_num : 16.\tfetching quote history of \"S오일\"\n",
      "\t- index_num : 17.\tfetching quote history of \"SKT\"\n",
      "\t- index_num : 18.\tfetching quote history of \"아시아나항공\"\n",
      "\t- index_num : 19.\tfetching quote history of \"기업은행\"\n",
      "\t- index_num : 20.\tfetching quote history of \"삼성카드\"\n",
      "\t- index_num : 21.\tfetching quote history of \"KT\"\n",
      "\t- index_num : 22.\tfetching quote history of \"LG유플러스\"\n",
      "\t- index_num : 23.\tfetching quote history of \"LG디스플레이\"\n",
      "\t- index_num : 24.\tfetching quote history of \"SK\"\n",
      "\t- index_num : 25.\tfetching quote history of \"네이버\"\n",
      "\t- index_num : 26.\tfetching quote history of \"카카오\"\n",
      "\t- index_num : 27.\tfetching quote history of \"JYP엔터\"\n",
      "\t- index_num : 28.\tfetching quote history of \"ncsoft\"\n",
      "\t- index_num : 29.\tfetching quote history of \"sm엔터\"\n",
      "\t- index_num : 30.\tfetching quote history of \"대우조선해양\"\n",
      "\t- index_num : 31.\tfetching quote history of \"한국한공우주\"\n",
      "\t- index_num : 32.\tfetching quote history of \"LG생활건강\"\n",
      "\t- index_num : 33.\tfetching quote history of \"LG화학\"\n",
      "\t- index_num : 34.\tfetching quote history of \"신한지주\"\n",
      "\t- index_num : 35.\tfetching quote history of \"LG전자\"\n",
      "\t- index_num : 36.\tfetching quote history of \"셀트리온\"\n",
      "\t- index_num : 37.\tfetching quote history of \"셀트리온제약\"\n",
      "\t- index_num : 38.\tfetching quote history of \"현대백화점\"\n",
      "\t- index_num : 39.\tfetching quote history of \"하이마트\"\n",
      "\t- index_num : 40.\tfetching quote history of \"아모레퍼시픽\"\n",
      "\t- index_num : 41.\tfetching quote history of \"sk이노베이션\"\n",
      "\t- index_num : 42.\tfetching quote history of \"CJ제일제당\"\n",
      "\t- index_num : 43.\tfetching quote history of \"KB금융\"\n",
      "\t- index_num : 44.\tfetching quote history of \"이마트\"\n"
     ]
    }
   ],
   "source": [
    "quotes = parser.quotes_historical_finance(start_date='2016.02.01')"
   ]
  },
  {
   "cell_type": "markdown",
   "metadata": {},
   "source": [
    "###  01_02. check the parsed finance historial data"
   ]
  },
  {
   "cell_type": "code",
   "execution_count": 4,
   "metadata": {},
   "outputs": [
    {
     "data": {
      "text/plain": [
       "array([[ (datetime.date(2017, 12, 8),  126500.,  127500.,  123500.,  124500.,    25353.),\n",
       "        (datetime.date(2017, 12, 7),  130000.,  133500.,  125000.,  126500.,    39969.),\n",
       "        (datetime.date(2017, 12, 6),  133000.,  133000.,  128000.,  130000.,    37627.),\n",
       "        ...,\n",
       "        (datetime.date(2016, 2, 3),   74500.,   74500.,   72100.,   72400.,   117697.),\n",
       "        (datetime.date(2016, 2, 2),   75800.,   76800.,   74600.,   75000.,    58731.),\n",
       "        (datetime.date(2016, 2, 1),   75000.,   76800.,   73900.,   76300.,   110423.)],\n",
       "       [ (datetime.date(2017, 12, 8),   33200.,   33450.,   32600.,   33000.,  1037771.),\n",
       "        (datetime.date(2017, 12, 7),   33900.,   33950.,   33200.,   33250.,   978272.),\n",
       "        (datetime.date(2017, 12, 6),   33750.,   34400.,   33750.,   33900.,   931273.),\n",
       "        ...,\n",
       "        (datetime.date(2016, 2, 3),   43350.,   43600.,   42650.,   43550.,  1342543.),\n",
       "        (datetime.date(2016, 2, 2),   43950.,   44350.,   43150.,   43150.,  1677658.),\n",
       "        (datetime.date(2016, 2, 1),   45000.,   45050.,   44000.,   44500.,  1788298.)],\n",
       "       [ (datetime.date(2017, 12, 8),   77500.,   78900.,   76900.,   78700.,  3636696.),\n",
       "        (datetime.date(2017, 12, 7),   78300.,   78300.,   75600.,   76000.,  5166136.),\n",
       "        (datetime.date(2017, 12, 6),   78700.,   79500.,   77200.,   77500.,  3934238.),\n",
       "        ...,\n",
       "        (datetime.date(2016, 2, 3),   27600.,   27850.,   27200.,   27450.,  2705269.),\n",
       "        (datetime.date(2016, 2, 2),   28450.,   28800.,   28150.,   28450.,  2865209.),\n",
       "        (datetime.date(2016, 2, 1),   28100.,   28650.,   27700.,   28400.,  4767927.)],\n",
       "       ..., \n",
       "       [ (datetime.date(2017, 12, 8),  387500.,  394500.,  386500.,  390000.,    31020.),\n",
       "        (datetime.date(2017, 12, 7),  390500.,  393500.,  387500.,  389000.,    26564.),\n",
       "        (datetime.date(2017, 12, 6),  396000.,  397500.,  388000.,  390500.,    30231.),\n",
       "        ...,\n",
       "        (datetime.date(2016, 2, 3),  404000.,  408000.,  400000.,  405000.,    42836.),\n",
       "        (datetime.date(2016, 2, 2),  410000.,  413000.,  402000.,  409000.,    46808.),\n",
       "        (datetime.date(2016, 2, 1),  409500.,  422000.,  406500.,  412500.,    40923.)],\n",
       "       [ (datetime.date(2017, 12, 8),   59100.,   60100.,   59100.,   59500.,   798584.),\n",
       "        (datetime.date(2017, 12, 7),   60200.,   60500.,   59200.,   59200.,  1336522.),\n",
       "        (datetime.date(2017, 12, 6),   60400.,   60400.,   59900.,   60200.,   835200.),\n",
       "        ...,\n",
       "        (datetime.date(2016, 2, 3),   28900.,   28900.,   28250.,   28450.,  1554437.),\n",
       "        (datetime.date(2016, 2, 2),   30100.,   30100.,   29350.,   29350.,   887067.),\n",
       "        (datetime.date(2016, 2, 1),   30150.,   30850.,   29700.,   29900.,  1447280.)],\n",
       "       [ (datetime.date(2017, 12, 8),  255000.,  265000.,  255000.,  257500.,    76337.),\n",
       "        (datetime.date(2017, 12, 7),  267500.,  268000.,  254500.,  257000.,   122641.),\n",
       "        (datetime.date(2017, 12, 6),  273000.,  273000.,  265000.,  267500.,    96361.),\n",
       "        ...,\n",
       "        (datetime.date(2016, 2, 3),  161000.,  163500.,  160500.,  162500.,    58198.),\n",
       "        (datetime.date(2016, 2, 2),  162000.,  163500.,  161000.,  162000.,    88617.),\n",
       "        (datetime.date(2016, 2, 1),  164500.,  164500.,  160500.,  162500.,   118467.)]],\n",
       "      dtype=[('date', 'O'), ('open', '<f4'), ('high', '<f4'), ('low', '<f4'), ('close', '<f4'), ('volume', '<f4')])"
      ]
     },
     "execution_count": 4,
     "metadata": {},
     "output_type": "execute_result"
    }
   ],
   "source": [
    "quotes"
   ]
  },
  {
   "cell_type": "markdown",
   "metadata": {},
   "source": [
    "#### assign a value for index number ( n-th company )"
   ]
  },
  {
   "cell_type": "code",
   "execution_count": 5,
   "metadata": {},
   "outputs": [],
   "source": [
    "index_num = 11"
   ]
  },
  {
   "cell_type": "markdown",
   "metadata": {},
   "source": [
    "#### check \"index_num\"-th company's finance historical data"
   ]
  },
  {
   "cell_type": "code",
   "execution_count": 6,
   "metadata": {},
   "outputs": [
    {
     "data": {
      "text/plain": [
       "array([ (datetime.date(2017, 12, 8),  798000.,  804000.,  775000.,  778000.,  6339.),\n",
       "       (datetime.date(2017, 12, 7),  796000.,  805000.,  794000.,  800000.,  4749.),\n",
       "       (datetime.date(2017, 12, 6),  819000.,  820000.,  793000.,  795000.,  5298.),\n",
       "       (datetime.date(2017, 12, 5),  794000.,  820000.,  793000.,  820000.,  7556.),\n",
       "       (datetime.date(2017, 12, 4),  791000.,  807000.,  785000.,  792000.,  5899.),\n",
       "       (datetime.date(2017, 12, 1),  794000.,  797000.,  783000.,  791000.,  4244.),\n",
       "       (datetime.date(2017, 11, 30),  818000.,  818000.,  794000.,  794000.,  7751.),\n",
       "       (datetime.date(2017, 11, 29),  828000.,  828000.,  808000.,  809000.,  4559.),\n",
       "       (datetime.date(2017, 11, 28),  810000.,  830000.,  809000.,  828000.,  6571.),\n",
       "       (datetime.date(2017, 11, 27),  800000.,  818000.,  800000.,  808000.,  4257.)],\n",
       "      dtype=[('date', 'O'), ('open', '<f4'), ('high', '<f4'), ('low', '<f4'), ('close', '<f4'), ('volume', '<f4')])"
      ]
     },
     "execution_count": 6,
     "metadata": {},
     "output_type": "execute_result"
    }
   ],
   "source": [
    "q = quotes[index_num]\n",
    "q[:10]"
   ]
  },
  {
   "cell_type": "markdown",
   "metadata": {},
   "source": [
    "#### check the data of each column's "
   ]
  },
  {
   "cell_type": "code",
   "execution_count": 7,
   "metadata": {},
   "outputs": [
    {
     "data": {
      "text/plain": [
       "array([datetime.date(2017, 12, 8), datetime.date(2017, 12, 7),\n",
       "       datetime.date(2017, 12, 6), datetime.date(2017, 12, 5),\n",
       "       datetime.date(2017, 12, 4), datetime.date(2017, 12, 1),\n",
       "       datetime.date(2017, 11, 30), datetime.date(2017, 11, 29),\n",
       "       datetime.date(2017, 11, 28), datetime.date(2017, 11, 27)], dtype=object)"
      ]
     },
     "execution_count": 7,
     "metadata": {},
     "output_type": "execute_result"
    }
   ],
   "source": [
    "q['date'][:10]"
   ]
  },
  {
   "cell_type": "code",
   "execution_count": 8,
   "metadata": {},
   "outputs": [
    {
     "data": {
      "text/plain": [
       "array([ 798000.,  796000.,  819000.,  794000.,  791000.,  794000.,\n",
       "        818000.,  828000.,  810000.,  800000.], dtype=float32)"
      ]
     },
     "execution_count": 8,
     "metadata": {},
     "output_type": "execute_result"
    }
   ],
   "source": [
    "q['open'][:10]"
   ]
  },
  {
   "cell_type": "code",
   "execution_count": 9,
   "metadata": {},
   "outputs": [
    {
     "data": {
      "text/plain": [
       "array([ 804000.,  805000.,  820000.,  820000.,  807000.,  797000.,\n",
       "        818000.,  828000.,  830000.,  818000.], dtype=float32)"
      ]
     },
     "execution_count": 9,
     "metadata": {},
     "output_type": "execute_result"
    }
   ],
   "source": [
    "q['high'][:10]"
   ]
  },
  {
   "cell_type": "code",
   "execution_count": 10,
   "metadata": {},
   "outputs": [
    {
     "data": {
      "text/plain": [
       "array([ 775000.,  794000.,  793000.,  793000.,  785000.,  783000.,\n",
       "        794000.,  808000.,  809000.,  800000.], dtype=float32)"
      ]
     },
     "execution_count": 10,
     "metadata": {},
     "output_type": "execute_result"
    }
   ],
   "source": [
    "q['low'][:10]"
   ]
  },
  {
   "cell_type": "code",
   "execution_count": 11,
   "metadata": {},
   "outputs": [
    {
     "data": {
      "text/plain": [
       "array([ 778000.,  800000.,  795000.,  820000.,  792000.,  791000.,\n",
       "        794000.,  809000.,  828000.,  808000.], dtype=float32)"
      ]
     },
     "execution_count": 11,
     "metadata": {},
     "output_type": "execute_result"
    }
   ],
   "source": [
    "q['close'][:10]"
   ]
  },
  {
   "cell_type": "code",
   "execution_count": 12,
   "metadata": {},
   "outputs": [
    {
     "data": {
      "text/plain": [
       "array([ 6339.,  4749.,  5298.,  7556.,  5899.,  4244.,  7751.,  4559.,\n",
       "        6571.,  4257.], dtype=float32)"
      ]
     },
     "execution_count": 12,
     "metadata": {},
     "output_type": "execute_result"
    }
   ],
   "source": [
    "q['volume'][:10]"
   ]
  },
  {
   "cell_type": "code",
   "execution_count": null,
   "metadata": {},
   "outputs": [],
   "source": []
  },
  {
   "cell_type": "markdown",
   "metadata": {},
   "source": [
    "---"
   ]
  },
  {
   "cell_type": "markdown",
   "metadata": {},
   "source": [
    "# 02. Show Historical Finance Data"
   ]
  },
  {
   "cell_type": "code",
   "execution_count": 13,
   "metadata": {},
   "outputs": [],
   "source": [
    "from dataDecorator import DataDecorator"
   ]
  },
  {
   "cell_type": "markdown",
   "metadata": {},
   "source": [
    "- **src: [dataDecorator.py](https://github.com/jhyun0919/skku_python_proj/blob/master/codes/dataDecorator.py)**"
   ]
  },
  {
   "cell_type": "markdown",
   "metadata": {},
   "source": [
    "### 02_01. pandas dataframe"
   ]
  },
  {
   "cell_type": "code",
   "execution_count": 14,
   "metadata": {},
   "outputs": [],
   "source": [
    "names = parser.get_stock_names()\n",
    "stock_items = parser.get_stock_items()"
   ]
  },
  {
   "cell_type": "code",
   "execution_count": 15,
   "metadata": {},
   "outputs": [
    {
     "name": "stdout",
     "output_type": "stream",
     "text": [
      "stock_name : 오뚜기\n",
      "stock_item : 007310\n"
     ]
    }
   ],
   "source": [
    "print('stock_name : {name}'.format(name=names[index_num]))\n",
    "print('stock_item : {stock_item}'.format(stock_item=stock_items[index_num]))"
   ]
  },
  {
   "cell_type": "code",
   "execution_count": 16,
   "metadata": {},
   "outputs": [],
   "source": [
    "df = DataDecorator.set_dataframe(idx=index_num, quotes=quotes)"
   ]
  },
  {
   "cell_type": "code",
   "execution_count": 17,
   "metadata": {},
   "outputs": [
    {
     "data": {
      "text/html": [
       "<div>\n",
       "<style scoped>\n",
       "    .dataframe tbody tr th:only-of-type {\n",
       "        vertical-align: middle;\n",
       "    }\n",
       "\n",
       "    .dataframe tbody tr th {\n",
       "        vertical-align: top;\n",
       "    }\n",
       "\n",
       "    .dataframe thead th {\n",
       "        text-align: right;\n",
       "    }\n",
       "</style>\n",
       "<table border=\"1\" class=\"dataframe\">\n",
       "  <thead>\n",
       "    <tr style=\"text-align: right;\">\n",
       "      <th></th>\n",
       "      <th>close_prices</th>\n",
       "      <th>open_prices</th>\n",
       "      <th>high_prices</th>\n",
       "      <th>low_prices</th>\n",
       "      <th>volume</th>\n",
       "    </tr>\n",
       "    <tr>\n",
       "      <th>market_dates</th>\n",
       "      <th></th>\n",
       "      <th></th>\n",
       "      <th></th>\n",
       "      <th></th>\n",
       "      <th></th>\n",
       "    </tr>\n",
       "  </thead>\n",
       "  <tbody>\n",
       "    <tr>\n",
       "      <th>2016-02-01</th>\n",
       "      <td>1384000.0</td>\n",
       "      <td>1414000.0</td>\n",
       "      <td>1425000.0</td>\n",
       "      <td>1360000.0</td>\n",
       "      <td>8577.0</td>\n",
       "    </tr>\n",
       "    <tr>\n",
       "      <th>2016-02-02</th>\n",
       "      <td>1409000.0</td>\n",
       "      <td>1361000.0</td>\n",
       "      <td>1423000.0</td>\n",
       "      <td>1361000.0</td>\n",
       "      <td>6317.0</td>\n",
       "    </tr>\n",
       "    <tr>\n",
       "      <th>2016-02-03</th>\n",
       "      <td>1410000.0</td>\n",
       "      <td>1408000.0</td>\n",
       "      <td>1433000.0</td>\n",
       "      <td>1398000.0</td>\n",
       "      <td>4121.0</td>\n",
       "    </tr>\n",
       "    <tr>\n",
       "      <th>2016-02-04</th>\n",
       "      <td>1381000.0</td>\n",
       "      <td>1416000.0</td>\n",
       "      <td>1418000.0</td>\n",
       "      <td>1380000.0</td>\n",
       "      <td>5039.0</td>\n",
       "    </tr>\n",
       "    <tr>\n",
       "      <th>2016-02-05</th>\n",
       "      <td>1259000.0</td>\n",
       "      <td>1381000.0</td>\n",
       "      <td>1381000.0</td>\n",
       "      <td>1254000.0</td>\n",
       "      <td>18153.0</td>\n",
       "    </tr>\n",
       "    <tr>\n",
       "      <th>2016-02-11</th>\n",
       "      <td>1242000.0</td>\n",
       "      <td>1250000.0</td>\n",
       "      <td>1263000.0</td>\n",
       "      <td>1230000.0</td>\n",
       "      <td>7384.0</td>\n",
       "    </tr>\n",
       "    <tr>\n",
       "      <th>2016-02-12</th>\n",
       "      <td>1180000.0</td>\n",
       "      <td>1230000.0</td>\n",
       "      <td>1240000.0</td>\n",
       "      <td>1142000.0</td>\n",
       "      <td>11311.0</td>\n",
       "    </tr>\n",
       "    <tr>\n",
       "      <th>2016-02-15</th>\n",
       "      <td>1274000.0</td>\n",
       "      <td>1198000.0</td>\n",
       "      <td>1279000.0</td>\n",
       "      <td>1195000.0</td>\n",
       "      <td>9462.0</td>\n",
       "    </tr>\n",
       "    <tr>\n",
       "      <th>2016-02-16</th>\n",
       "      <td>1298000.0</td>\n",
       "      <td>1263000.0</td>\n",
       "      <td>1323000.0</td>\n",
       "      <td>1263000.0</td>\n",
       "      <td>6873.0</td>\n",
       "    </tr>\n",
       "    <tr>\n",
       "      <th>2016-02-17</th>\n",
       "      <td>1230000.0</td>\n",
       "      <td>1300000.0</td>\n",
       "      <td>1325000.0</td>\n",
       "      <td>1205000.0</td>\n",
       "      <td>12108.0</td>\n",
       "    </tr>\n",
       "    <tr>\n",
       "      <th>2016-02-18</th>\n",
       "      <td>1240000.0</td>\n",
       "      <td>1259000.0</td>\n",
       "      <td>1281000.0</td>\n",
       "      <td>1222000.0</td>\n",
       "      <td>10113.0</td>\n",
       "    </tr>\n",
       "    <tr>\n",
       "      <th>2016-02-19</th>\n",
       "      <td>1238000.0</td>\n",
       "      <td>1240000.0</td>\n",
       "      <td>1274000.0</td>\n",
       "      <td>1225000.0</td>\n",
       "      <td>9792.0</td>\n",
       "    </tr>\n",
       "    <tr>\n",
       "      <th>2016-02-22</th>\n",
       "      <td>1241000.0</td>\n",
       "      <td>1231000.0</td>\n",
       "      <td>1265000.0</td>\n",
       "      <td>1230000.0</td>\n",
       "      <td>5577.0</td>\n",
       "    </tr>\n",
       "    <tr>\n",
       "      <th>2016-02-23</th>\n",
       "      <td>1218000.0</td>\n",
       "      <td>1238000.0</td>\n",
       "      <td>1256000.0</td>\n",
       "      <td>1191000.0</td>\n",
       "      <td>8573.0</td>\n",
       "    </tr>\n",
       "    <tr>\n",
       "      <th>2016-02-24</th>\n",
       "      <td>1172000.0</td>\n",
       "      <td>1190000.0</td>\n",
       "      <td>1229000.0</td>\n",
       "      <td>1168000.0</td>\n",
       "      <td>11924.0</td>\n",
       "    </tr>\n",
       "    <tr>\n",
       "      <th>2016-02-25</th>\n",
       "      <td>1162000.0</td>\n",
       "      <td>1166000.0</td>\n",
       "      <td>1185000.0</td>\n",
       "      <td>1156000.0</td>\n",
       "      <td>12475.0</td>\n",
       "    </tr>\n",
       "    <tr>\n",
       "      <th>2016-02-26</th>\n",
       "      <td>1189000.0</td>\n",
       "      <td>1165000.0</td>\n",
       "      <td>1192000.0</td>\n",
       "      <td>1155000.0</td>\n",
       "      <td>9132.0</td>\n",
       "    </tr>\n",
       "    <tr>\n",
       "      <th>2016-02-29</th>\n",
       "      <td>1146000.0</td>\n",
       "      <td>1191000.0</td>\n",
       "      <td>1191000.0</td>\n",
       "      <td>1126000.0</td>\n",
       "      <td>15785.0</td>\n",
       "    </tr>\n",
       "    <tr>\n",
       "      <th>2016-03-02</th>\n",
       "      <td>1186000.0</td>\n",
       "      <td>1151000.0</td>\n",
       "      <td>1186000.0</td>\n",
       "      <td>1147000.0</td>\n",
       "      <td>11657.0</td>\n",
       "    </tr>\n",
       "    <tr>\n",
       "      <th>2016-03-03</th>\n",
       "      <td>1217000.0</td>\n",
       "      <td>1188000.0</td>\n",
       "      <td>1234000.0</td>\n",
       "      <td>1165000.0</td>\n",
       "      <td>12449.0</td>\n",
       "    </tr>\n",
       "    <tr>\n",
       "      <th>2016-03-04</th>\n",
       "      <td>1070000.0</td>\n",
       "      <td>1199000.0</td>\n",
       "      <td>1199000.0</td>\n",
       "      <td>1061000.0</td>\n",
       "      <td>38274.0</td>\n",
       "    </tr>\n",
       "    <tr>\n",
       "      <th>2016-03-07</th>\n",
       "      <td>1072000.0</td>\n",
       "      <td>1074000.0</td>\n",
       "      <td>1093000.0</td>\n",
       "      <td>1050000.0</td>\n",
       "      <td>15311.0</td>\n",
       "    </tr>\n",
       "    <tr>\n",
       "      <th>2016-03-08</th>\n",
       "      <td>1037000.0</td>\n",
       "      <td>1063000.0</td>\n",
       "      <td>1069000.0</td>\n",
       "      <td>1026000.0</td>\n",
       "      <td>16237.0</td>\n",
       "    </tr>\n",
       "    <tr>\n",
       "      <th>2016-03-09</th>\n",
       "      <td>1043000.0</td>\n",
       "      <td>1036000.0</td>\n",
       "      <td>1060000.0</td>\n",
       "      <td>1030000.0</td>\n",
       "      <td>15501.0</td>\n",
       "    </tr>\n",
       "    <tr>\n",
       "      <th>2016-03-10</th>\n",
       "      <td>1043000.0</td>\n",
       "      <td>1046000.0</td>\n",
       "      <td>1050000.0</td>\n",
       "      <td>1035000.0</td>\n",
       "      <td>7210.0</td>\n",
       "    </tr>\n",
       "    <tr>\n",
       "      <th>2016-03-11</th>\n",
       "      <td>1050000.0</td>\n",
       "      <td>1046000.0</td>\n",
       "      <td>1064000.0</td>\n",
       "      <td>1035000.0</td>\n",
       "      <td>8224.0</td>\n",
       "    </tr>\n",
       "    <tr>\n",
       "      <th>2016-03-14</th>\n",
       "      <td>1018000.0</td>\n",
       "      <td>1054000.0</td>\n",
       "      <td>1056000.0</td>\n",
       "      <td>1017000.0</td>\n",
       "      <td>11893.0</td>\n",
       "    </tr>\n",
       "    <tr>\n",
       "      <th>2016-03-15</th>\n",
       "      <td>1020000.0</td>\n",
       "      <td>1020000.0</td>\n",
       "      <td>1034000.0</td>\n",
       "      <td>1015000.0</td>\n",
       "      <td>9682.0</td>\n",
       "    </tr>\n",
       "    <tr>\n",
       "      <th>2016-03-16</th>\n",
       "      <td>1033000.0</td>\n",
       "      <td>1018000.0</td>\n",
       "      <td>1045000.0</td>\n",
       "      <td>1018000.0</td>\n",
       "      <td>9122.0</td>\n",
       "    </tr>\n",
       "    <tr>\n",
       "      <th>2016-03-17</th>\n",
       "      <td>1019000.0</td>\n",
       "      <td>1038000.0</td>\n",
       "      <td>1043000.0</td>\n",
       "      <td>1010000.0</td>\n",
       "      <td>11942.0</td>\n",
       "    </tr>\n",
       "    <tr>\n",
       "      <th>...</th>\n",
       "      <td>...</td>\n",
       "      <td>...</td>\n",
       "      <td>...</td>\n",
       "      <td>...</td>\n",
       "      <td>...</td>\n",
       "    </tr>\n",
       "    <tr>\n",
       "      <th>2017-10-30</th>\n",
       "      <td>765000.0</td>\n",
       "      <td>778000.0</td>\n",
       "      <td>782000.0</td>\n",
       "      <td>763000.0</td>\n",
       "      <td>5024.0</td>\n",
       "    </tr>\n",
       "    <tr>\n",
       "      <th>2017-10-31</th>\n",
       "      <td>759000.0</td>\n",
       "      <td>760000.0</td>\n",
       "      <td>767000.0</td>\n",
       "      <td>758000.0</td>\n",
       "      <td>4602.0</td>\n",
       "    </tr>\n",
       "    <tr>\n",
       "      <th>2017-11-01</th>\n",
       "      <td>751000.0</td>\n",
       "      <td>751000.0</td>\n",
       "      <td>762000.0</td>\n",
       "      <td>750000.0</td>\n",
       "      <td>6322.0</td>\n",
       "    </tr>\n",
       "    <tr>\n",
       "      <th>2017-11-02</th>\n",
       "      <td>751000.0</td>\n",
       "      <td>751000.0</td>\n",
       "      <td>757000.0</td>\n",
       "      <td>749000.0</td>\n",
       "      <td>3632.0</td>\n",
       "    </tr>\n",
       "    <tr>\n",
       "      <th>2017-11-03</th>\n",
       "      <td>757000.0</td>\n",
       "      <td>757000.0</td>\n",
       "      <td>759000.0</td>\n",
       "      <td>748000.0</td>\n",
       "      <td>2697.0</td>\n",
       "    </tr>\n",
       "    <tr>\n",
       "      <th>2017-11-06</th>\n",
       "      <td>758000.0</td>\n",
       "      <td>756000.0</td>\n",
       "      <td>759000.0</td>\n",
       "      <td>753000.0</td>\n",
       "      <td>1928.0</td>\n",
       "    </tr>\n",
       "    <tr>\n",
       "      <th>2017-11-07</th>\n",
       "      <td>749000.0</td>\n",
       "      <td>755000.0</td>\n",
       "      <td>762000.0</td>\n",
       "      <td>748000.0</td>\n",
       "      <td>4402.0</td>\n",
       "    </tr>\n",
       "    <tr>\n",
       "      <th>2017-11-08</th>\n",
       "      <td>752000.0</td>\n",
       "      <td>747000.0</td>\n",
       "      <td>753000.0</td>\n",
       "      <td>742000.0</td>\n",
       "      <td>2979.0</td>\n",
       "    </tr>\n",
       "    <tr>\n",
       "      <th>2017-11-09</th>\n",
       "      <td>770000.0</td>\n",
       "      <td>755000.0</td>\n",
       "      <td>775000.0</td>\n",
       "      <td>752000.0</td>\n",
       "      <td>8483.0</td>\n",
       "    </tr>\n",
       "    <tr>\n",
       "      <th>2017-11-10</th>\n",
       "      <td>761000.0</td>\n",
       "      <td>771000.0</td>\n",
       "      <td>773000.0</td>\n",
       "      <td>758000.0</td>\n",
       "      <td>2593.0</td>\n",
       "    </tr>\n",
       "    <tr>\n",
       "      <th>2017-11-13</th>\n",
       "      <td>757000.0</td>\n",
       "      <td>761000.0</td>\n",
       "      <td>767000.0</td>\n",
       "      <td>756000.0</td>\n",
       "      <td>2397.0</td>\n",
       "    </tr>\n",
       "    <tr>\n",
       "      <th>2017-11-14</th>\n",
       "      <td>759000.0</td>\n",
       "      <td>757000.0</td>\n",
       "      <td>761000.0</td>\n",
       "      <td>753000.0</td>\n",
       "      <td>2421.0</td>\n",
       "    </tr>\n",
       "    <tr>\n",
       "      <th>2017-11-15</th>\n",
       "      <td>753000.0</td>\n",
       "      <td>760000.0</td>\n",
       "      <td>760000.0</td>\n",
       "      <td>749000.0</td>\n",
       "      <td>3013.0</td>\n",
       "    </tr>\n",
       "    <tr>\n",
       "      <th>2017-11-16</th>\n",
       "      <td>752000.0</td>\n",
       "      <td>760000.0</td>\n",
       "      <td>760000.0</td>\n",
       "      <td>748000.0</td>\n",
       "      <td>2176.0</td>\n",
       "    </tr>\n",
       "    <tr>\n",
       "      <th>2017-11-17</th>\n",
       "      <td>789000.0</td>\n",
       "      <td>754000.0</td>\n",
       "      <td>789000.0</td>\n",
       "      <td>754000.0</td>\n",
       "      <td>17901.0</td>\n",
       "    </tr>\n",
       "    <tr>\n",
       "      <th>2017-11-20</th>\n",
       "      <td>826000.0</td>\n",
       "      <td>795000.0</td>\n",
       "      <td>832000.0</td>\n",
       "      <td>793000.0</td>\n",
       "      <td>22021.0</td>\n",
       "    </tr>\n",
       "    <tr>\n",
       "      <th>2017-11-21</th>\n",
       "      <td>826000.0</td>\n",
       "      <td>830000.0</td>\n",
       "      <td>844000.0</td>\n",
       "      <td>817000.0</td>\n",
       "      <td>9426.0</td>\n",
       "    </tr>\n",
       "    <tr>\n",
       "      <th>2017-11-22</th>\n",
       "      <td>804000.0</td>\n",
       "      <td>826000.0</td>\n",
       "      <td>826000.0</td>\n",
       "      <td>802000.0</td>\n",
       "      <td>6265.0</td>\n",
       "    </tr>\n",
       "    <tr>\n",
       "      <th>2017-11-23</th>\n",
       "      <td>810000.0</td>\n",
       "      <td>807000.0</td>\n",
       "      <td>814000.0</td>\n",
       "      <td>806000.0</td>\n",
       "      <td>2785.0</td>\n",
       "    </tr>\n",
       "    <tr>\n",
       "      <th>2017-11-24</th>\n",
       "      <td>800000.0</td>\n",
       "      <td>810000.0</td>\n",
       "      <td>815000.0</td>\n",
       "      <td>800000.0</td>\n",
       "      <td>3308.0</td>\n",
       "    </tr>\n",
       "    <tr>\n",
       "      <th>2017-11-27</th>\n",
       "      <td>808000.0</td>\n",
       "      <td>800000.0</td>\n",
       "      <td>818000.0</td>\n",
       "      <td>800000.0</td>\n",
       "      <td>4257.0</td>\n",
       "    </tr>\n",
       "    <tr>\n",
       "      <th>2017-11-28</th>\n",
       "      <td>828000.0</td>\n",
       "      <td>810000.0</td>\n",
       "      <td>830000.0</td>\n",
       "      <td>809000.0</td>\n",
       "      <td>6571.0</td>\n",
       "    </tr>\n",
       "    <tr>\n",
       "      <th>2017-11-29</th>\n",
       "      <td>809000.0</td>\n",
       "      <td>828000.0</td>\n",
       "      <td>828000.0</td>\n",
       "      <td>808000.0</td>\n",
       "      <td>4559.0</td>\n",
       "    </tr>\n",
       "    <tr>\n",
       "      <th>2017-11-30</th>\n",
       "      <td>794000.0</td>\n",
       "      <td>818000.0</td>\n",
       "      <td>818000.0</td>\n",
       "      <td>794000.0</td>\n",
       "      <td>7751.0</td>\n",
       "    </tr>\n",
       "    <tr>\n",
       "      <th>2017-12-01</th>\n",
       "      <td>791000.0</td>\n",
       "      <td>794000.0</td>\n",
       "      <td>797000.0</td>\n",
       "      <td>783000.0</td>\n",
       "      <td>4244.0</td>\n",
       "    </tr>\n",
       "    <tr>\n",
       "      <th>2017-12-04</th>\n",
       "      <td>792000.0</td>\n",
       "      <td>791000.0</td>\n",
       "      <td>807000.0</td>\n",
       "      <td>785000.0</td>\n",
       "      <td>5899.0</td>\n",
       "    </tr>\n",
       "    <tr>\n",
       "      <th>2017-12-05</th>\n",
       "      <td>820000.0</td>\n",
       "      <td>794000.0</td>\n",
       "      <td>820000.0</td>\n",
       "      <td>793000.0</td>\n",
       "      <td>7556.0</td>\n",
       "    </tr>\n",
       "    <tr>\n",
       "      <th>2017-12-06</th>\n",
       "      <td>795000.0</td>\n",
       "      <td>819000.0</td>\n",
       "      <td>820000.0</td>\n",
       "      <td>793000.0</td>\n",
       "      <td>5298.0</td>\n",
       "    </tr>\n",
       "    <tr>\n",
       "      <th>2017-12-07</th>\n",
       "      <td>800000.0</td>\n",
       "      <td>796000.0</td>\n",
       "      <td>805000.0</td>\n",
       "      <td>794000.0</td>\n",
       "      <td>4749.0</td>\n",
       "    </tr>\n",
       "    <tr>\n",
       "      <th>2017-12-08</th>\n",
       "      <td>778000.0</td>\n",
       "      <td>798000.0</td>\n",
       "      <td>804000.0</td>\n",
       "      <td>775000.0</td>\n",
       "      <td>6339.0</td>\n",
       "    </tr>\n",
       "  </tbody>\n",
       "</table>\n",
       "<p>456 rows × 5 columns</p>\n",
       "</div>"
      ],
      "text/plain": [
       "              close_prices  open_prices  high_prices  low_prices   volume\n",
       "market_dates                                                             \n",
       "2016-02-01       1384000.0    1414000.0    1425000.0   1360000.0   8577.0\n",
       "2016-02-02       1409000.0    1361000.0    1423000.0   1361000.0   6317.0\n",
       "2016-02-03       1410000.0    1408000.0    1433000.0   1398000.0   4121.0\n",
       "2016-02-04       1381000.0    1416000.0    1418000.0   1380000.0   5039.0\n",
       "2016-02-05       1259000.0    1381000.0    1381000.0   1254000.0  18153.0\n",
       "2016-02-11       1242000.0    1250000.0    1263000.0   1230000.0   7384.0\n",
       "2016-02-12       1180000.0    1230000.0    1240000.0   1142000.0  11311.0\n",
       "2016-02-15       1274000.0    1198000.0    1279000.0   1195000.0   9462.0\n",
       "2016-02-16       1298000.0    1263000.0    1323000.0   1263000.0   6873.0\n",
       "2016-02-17       1230000.0    1300000.0    1325000.0   1205000.0  12108.0\n",
       "2016-02-18       1240000.0    1259000.0    1281000.0   1222000.0  10113.0\n",
       "2016-02-19       1238000.0    1240000.0    1274000.0   1225000.0   9792.0\n",
       "2016-02-22       1241000.0    1231000.0    1265000.0   1230000.0   5577.0\n",
       "2016-02-23       1218000.0    1238000.0    1256000.0   1191000.0   8573.0\n",
       "2016-02-24       1172000.0    1190000.0    1229000.0   1168000.0  11924.0\n",
       "2016-02-25       1162000.0    1166000.0    1185000.0   1156000.0  12475.0\n",
       "2016-02-26       1189000.0    1165000.0    1192000.0   1155000.0   9132.0\n",
       "2016-02-29       1146000.0    1191000.0    1191000.0   1126000.0  15785.0\n",
       "2016-03-02       1186000.0    1151000.0    1186000.0   1147000.0  11657.0\n",
       "2016-03-03       1217000.0    1188000.0    1234000.0   1165000.0  12449.0\n",
       "2016-03-04       1070000.0    1199000.0    1199000.0   1061000.0  38274.0\n",
       "2016-03-07       1072000.0    1074000.0    1093000.0   1050000.0  15311.0\n",
       "2016-03-08       1037000.0    1063000.0    1069000.0   1026000.0  16237.0\n",
       "2016-03-09       1043000.0    1036000.0    1060000.0   1030000.0  15501.0\n",
       "2016-03-10       1043000.0    1046000.0    1050000.0   1035000.0   7210.0\n",
       "2016-03-11       1050000.0    1046000.0    1064000.0   1035000.0   8224.0\n",
       "2016-03-14       1018000.0    1054000.0    1056000.0   1017000.0  11893.0\n",
       "2016-03-15       1020000.0    1020000.0    1034000.0   1015000.0   9682.0\n",
       "2016-03-16       1033000.0    1018000.0    1045000.0   1018000.0   9122.0\n",
       "2016-03-17       1019000.0    1038000.0    1043000.0   1010000.0  11942.0\n",
       "...                    ...          ...          ...         ...      ...\n",
       "2017-10-30        765000.0     778000.0     782000.0    763000.0   5024.0\n",
       "2017-10-31        759000.0     760000.0     767000.0    758000.0   4602.0\n",
       "2017-11-01        751000.0     751000.0     762000.0    750000.0   6322.0\n",
       "2017-11-02        751000.0     751000.0     757000.0    749000.0   3632.0\n",
       "2017-11-03        757000.0     757000.0     759000.0    748000.0   2697.0\n",
       "2017-11-06        758000.0     756000.0     759000.0    753000.0   1928.0\n",
       "2017-11-07        749000.0     755000.0     762000.0    748000.0   4402.0\n",
       "2017-11-08        752000.0     747000.0     753000.0    742000.0   2979.0\n",
       "2017-11-09        770000.0     755000.0     775000.0    752000.0   8483.0\n",
       "2017-11-10        761000.0     771000.0     773000.0    758000.0   2593.0\n",
       "2017-11-13        757000.0     761000.0     767000.0    756000.0   2397.0\n",
       "2017-11-14        759000.0     757000.0     761000.0    753000.0   2421.0\n",
       "2017-11-15        753000.0     760000.0     760000.0    749000.0   3013.0\n",
       "2017-11-16        752000.0     760000.0     760000.0    748000.0   2176.0\n",
       "2017-11-17        789000.0     754000.0     789000.0    754000.0  17901.0\n",
       "2017-11-20        826000.0     795000.0     832000.0    793000.0  22021.0\n",
       "2017-11-21        826000.0     830000.0     844000.0    817000.0   9426.0\n",
       "2017-11-22        804000.0     826000.0     826000.0    802000.0   6265.0\n",
       "2017-11-23        810000.0     807000.0     814000.0    806000.0   2785.0\n",
       "2017-11-24        800000.0     810000.0     815000.0    800000.0   3308.0\n",
       "2017-11-27        808000.0     800000.0     818000.0    800000.0   4257.0\n",
       "2017-11-28        828000.0     810000.0     830000.0    809000.0   6571.0\n",
       "2017-11-29        809000.0     828000.0     828000.0    808000.0   4559.0\n",
       "2017-11-30        794000.0     818000.0     818000.0    794000.0   7751.0\n",
       "2017-12-01        791000.0     794000.0     797000.0    783000.0   4244.0\n",
       "2017-12-04        792000.0     791000.0     807000.0    785000.0   5899.0\n",
       "2017-12-05        820000.0     794000.0     820000.0    793000.0   7556.0\n",
       "2017-12-06        795000.0     819000.0     820000.0    793000.0   5298.0\n",
       "2017-12-07        800000.0     796000.0     805000.0    794000.0   4749.0\n",
       "2017-12-08        778000.0     798000.0     804000.0    775000.0   6339.0\n",
       "\n",
       "[456 rows x 5 columns]"
      ]
     },
     "execution_count": 17,
     "metadata": {},
     "output_type": "execute_result"
    }
   ],
   "source": [
    "df"
   ]
  },
  {
   "cell_type": "code",
   "execution_count": null,
   "metadata": {},
   "outputs": [],
   "source": []
  },
  {
   "cell_type": "markdown",
   "metadata": {},
   "source": [
    "### a) select _\"Row\"_ "
   ]
  },
  {
   "cell_type": "markdown",
   "metadata": {},
   "source": [
    "#### by iloc"
   ]
  },
  {
   "cell_type": "code",
   "execution_count": 18,
   "metadata": {},
   "outputs": [],
   "source": [
    "row_index = 9"
   ]
  },
  {
   "cell_type": "code",
   "execution_count": 19,
   "metadata": {},
   "outputs": [
    {
     "data": {
      "text/plain": [
       "close_prices    1230000.0\n",
       "open_prices     1300000.0\n",
       "high_prices     1325000.0\n",
       "low_prices      1205000.0\n",
       "volume            12108.0\n",
       "Name: 2016-02-17, dtype: float64"
      ]
     },
     "execution_count": 19,
     "metadata": {},
     "output_type": "execute_result"
    }
   ],
   "source": [
    "df.iloc[row_index]"
   ]
  },
  {
   "cell_type": "code",
   "execution_count": 20,
   "metadata": {},
   "outputs": [
    {
     "data": {
      "text/html": [
       "<div>\n",
       "<style scoped>\n",
       "    .dataframe tbody tr th:only-of-type {\n",
       "        vertical-align: middle;\n",
       "    }\n",
       "\n",
       "    .dataframe tbody tr th {\n",
       "        vertical-align: top;\n",
       "    }\n",
       "\n",
       "    .dataframe thead th {\n",
       "        text-align: right;\n",
       "    }\n",
       "</style>\n",
       "<table border=\"1\" class=\"dataframe\">\n",
       "  <thead>\n",
       "    <tr style=\"text-align: right;\">\n",
       "      <th></th>\n",
       "      <th>close_prices</th>\n",
       "      <th>open_prices</th>\n",
       "      <th>high_prices</th>\n",
       "      <th>low_prices</th>\n",
       "      <th>volume</th>\n",
       "    </tr>\n",
       "    <tr>\n",
       "      <th>market_dates</th>\n",
       "      <th></th>\n",
       "      <th></th>\n",
       "      <th></th>\n",
       "      <th></th>\n",
       "      <th></th>\n",
       "    </tr>\n",
       "  </thead>\n",
       "  <tbody>\n",
       "    <tr>\n",
       "      <th>2016-02-01</th>\n",
       "      <td>1384000.0</td>\n",
       "      <td>1414000.0</td>\n",
       "      <td>1425000.0</td>\n",
       "      <td>1360000.0</td>\n",
       "      <td>8577.0</td>\n",
       "    </tr>\n",
       "    <tr>\n",
       "      <th>2016-02-02</th>\n",
       "      <td>1409000.0</td>\n",
       "      <td>1361000.0</td>\n",
       "      <td>1423000.0</td>\n",
       "      <td>1361000.0</td>\n",
       "      <td>6317.0</td>\n",
       "    </tr>\n",
       "    <tr>\n",
       "      <th>2016-02-03</th>\n",
       "      <td>1410000.0</td>\n",
       "      <td>1408000.0</td>\n",
       "      <td>1433000.0</td>\n",
       "      <td>1398000.0</td>\n",
       "      <td>4121.0</td>\n",
       "    </tr>\n",
       "    <tr>\n",
       "      <th>2016-02-04</th>\n",
       "      <td>1381000.0</td>\n",
       "      <td>1416000.0</td>\n",
       "      <td>1418000.0</td>\n",
       "      <td>1380000.0</td>\n",
       "      <td>5039.0</td>\n",
       "    </tr>\n",
       "    <tr>\n",
       "      <th>2016-02-05</th>\n",
       "      <td>1259000.0</td>\n",
       "      <td>1381000.0</td>\n",
       "      <td>1381000.0</td>\n",
       "      <td>1254000.0</td>\n",
       "      <td>18153.0</td>\n",
       "    </tr>\n",
       "    <tr>\n",
       "      <th>2016-02-11</th>\n",
       "      <td>1242000.0</td>\n",
       "      <td>1250000.0</td>\n",
       "      <td>1263000.0</td>\n",
       "      <td>1230000.0</td>\n",
       "      <td>7384.0</td>\n",
       "    </tr>\n",
       "    <tr>\n",
       "      <th>2016-02-12</th>\n",
       "      <td>1180000.0</td>\n",
       "      <td>1230000.0</td>\n",
       "      <td>1240000.0</td>\n",
       "      <td>1142000.0</td>\n",
       "      <td>11311.0</td>\n",
       "    </tr>\n",
       "    <tr>\n",
       "      <th>2016-02-15</th>\n",
       "      <td>1274000.0</td>\n",
       "      <td>1198000.0</td>\n",
       "      <td>1279000.0</td>\n",
       "      <td>1195000.0</td>\n",
       "      <td>9462.0</td>\n",
       "    </tr>\n",
       "    <tr>\n",
       "      <th>2016-02-16</th>\n",
       "      <td>1298000.0</td>\n",
       "      <td>1263000.0</td>\n",
       "      <td>1323000.0</td>\n",
       "      <td>1263000.0</td>\n",
       "      <td>6873.0</td>\n",
       "    </tr>\n",
       "  </tbody>\n",
       "</table>\n",
       "</div>"
      ],
      "text/plain": [
       "              close_prices  open_prices  high_prices  low_prices   volume\n",
       "market_dates                                                             \n",
       "2016-02-01       1384000.0    1414000.0    1425000.0   1360000.0   8577.0\n",
       "2016-02-02       1409000.0    1361000.0    1423000.0   1361000.0   6317.0\n",
       "2016-02-03       1410000.0    1408000.0    1433000.0   1398000.0   4121.0\n",
       "2016-02-04       1381000.0    1416000.0    1418000.0   1380000.0   5039.0\n",
       "2016-02-05       1259000.0    1381000.0    1381000.0   1254000.0  18153.0\n",
       "2016-02-11       1242000.0    1250000.0    1263000.0   1230000.0   7384.0\n",
       "2016-02-12       1180000.0    1230000.0    1240000.0   1142000.0  11311.0\n",
       "2016-02-15       1274000.0    1198000.0    1279000.0   1195000.0   9462.0\n",
       "2016-02-16       1298000.0    1263000.0    1323000.0   1263000.0   6873.0"
      ]
     },
     "execution_count": 20,
     "metadata": {},
     "output_type": "execute_result"
    }
   ],
   "source": [
    "df.iloc[:row_index]"
   ]
  },
  {
   "cell_type": "code",
   "execution_count": null,
   "metadata": {},
   "outputs": [],
   "source": []
  },
  {
   "cell_type": "markdown",
   "metadata": {},
   "source": [
    "#### by loc"
   ]
  },
  {
   "cell_type": "code",
   "execution_count": 21,
   "metadata": {},
   "outputs": [],
   "source": [
    "date = df.index[row_index]"
   ]
  },
  {
   "cell_type": "code",
   "execution_count": 22,
   "metadata": {},
   "outputs": [
    {
     "data": {
      "text/plain": [
       "datetime.date(2016, 2, 17)"
      ]
     },
     "execution_count": 22,
     "metadata": {},
     "output_type": "execute_result"
    }
   ],
   "source": [
    "date"
   ]
  },
  {
   "cell_type": "code",
   "execution_count": 23,
   "metadata": {},
   "outputs": [
    {
     "data": {
      "text/plain": [
       "close_prices    1230000.0\n",
       "open_prices     1300000.0\n",
       "high_prices     1325000.0\n",
       "low_prices      1205000.0\n",
       "volume            12108.0\n",
       "Name: 2016-02-17, dtype: float64"
      ]
     },
     "execution_count": 23,
     "metadata": {},
     "output_type": "execute_result"
    }
   ],
   "source": [
    "df.loc[date]"
   ]
  },
  {
   "cell_type": "code",
   "execution_count": 24,
   "metadata": {},
   "outputs": [
    {
     "data": {
      "text/html": [
       "<div>\n",
       "<style scoped>\n",
       "    .dataframe tbody tr th:only-of-type {\n",
       "        vertical-align: middle;\n",
       "    }\n",
       "\n",
       "    .dataframe tbody tr th {\n",
       "        vertical-align: top;\n",
       "    }\n",
       "\n",
       "    .dataframe thead th {\n",
       "        text-align: right;\n",
       "    }\n",
       "</style>\n",
       "<table border=\"1\" class=\"dataframe\">\n",
       "  <thead>\n",
       "    <tr style=\"text-align: right;\">\n",
       "      <th></th>\n",
       "      <th>close_prices</th>\n",
       "      <th>open_prices</th>\n",
       "      <th>high_prices</th>\n",
       "      <th>low_prices</th>\n",
       "      <th>volume</th>\n",
       "    </tr>\n",
       "    <tr>\n",
       "      <th>market_dates</th>\n",
       "      <th></th>\n",
       "      <th></th>\n",
       "      <th></th>\n",
       "      <th></th>\n",
       "      <th></th>\n",
       "    </tr>\n",
       "  </thead>\n",
       "  <tbody>\n",
       "    <tr>\n",
       "      <th>2016-02-01</th>\n",
       "      <td>1384000.0</td>\n",
       "      <td>1414000.0</td>\n",
       "      <td>1425000.0</td>\n",
       "      <td>1360000.0</td>\n",
       "      <td>8577.0</td>\n",
       "    </tr>\n",
       "    <tr>\n",
       "      <th>2016-02-02</th>\n",
       "      <td>1409000.0</td>\n",
       "      <td>1361000.0</td>\n",
       "      <td>1423000.0</td>\n",
       "      <td>1361000.0</td>\n",
       "      <td>6317.0</td>\n",
       "    </tr>\n",
       "    <tr>\n",
       "      <th>2016-02-03</th>\n",
       "      <td>1410000.0</td>\n",
       "      <td>1408000.0</td>\n",
       "      <td>1433000.0</td>\n",
       "      <td>1398000.0</td>\n",
       "      <td>4121.0</td>\n",
       "    </tr>\n",
       "    <tr>\n",
       "      <th>2016-02-04</th>\n",
       "      <td>1381000.0</td>\n",
       "      <td>1416000.0</td>\n",
       "      <td>1418000.0</td>\n",
       "      <td>1380000.0</td>\n",
       "      <td>5039.0</td>\n",
       "    </tr>\n",
       "    <tr>\n",
       "      <th>2016-02-05</th>\n",
       "      <td>1259000.0</td>\n",
       "      <td>1381000.0</td>\n",
       "      <td>1381000.0</td>\n",
       "      <td>1254000.0</td>\n",
       "      <td>18153.0</td>\n",
       "    </tr>\n",
       "    <tr>\n",
       "      <th>2016-02-11</th>\n",
       "      <td>1242000.0</td>\n",
       "      <td>1250000.0</td>\n",
       "      <td>1263000.0</td>\n",
       "      <td>1230000.0</td>\n",
       "      <td>7384.0</td>\n",
       "    </tr>\n",
       "    <tr>\n",
       "      <th>2016-02-12</th>\n",
       "      <td>1180000.0</td>\n",
       "      <td>1230000.0</td>\n",
       "      <td>1240000.0</td>\n",
       "      <td>1142000.0</td>\n",
       "      <td>11311.0</td>\n",
       "    </tr>\n",
       "    <tr>\n",
       "      <th>2016-02-15</th>\n",
       "      <td>1274000.0</td>\n",
       "      <td>1198000.0</td>\n",
       "      <td>1279000.0</td>\n",
       "      <td>1195000.0</td>\n",
       "      <td>9462.0</td>\n",
       "    </tr>\n",
       "    <tr>\n",
       "      <th>2016-02-16</th>\n",
       "      <td>1298000.0</td>\n",
       "      <td>1263000.0</td>\n",
       "      <td>1323000.0</td>\n",
       "      <td>1263000.0</td>\n",
       "      <td>6873.0</td>\n",
       "    </tr>\n",
       "    <tr>\n",
       "      <th>2016-02-17</th>\n",
       "      <td>1230000.0</td>\n",
       "      <td>1300000.0</td>\n",
       "      <td>1325000.0</td>\n",
       "      <td>1205000.0</td>\n",
       "      <td>12108.0</td>\n",
       "    </tr>\n",
       "  </tbody>\n",
       "</table>\n",
       "</div>"
      ],
      "text/plain": [
       "              close_prices  open_prices  high_prices  low_prices   volume\n",
       "market_dates                                                             \n",
       "2016-02-01       1384000.0    1414000.0    1425000.0   1360000.0   8577.0\n",
       "2016-02-02       1409000.0    1361000.0    1423000.0   1361000.0   6317.0\n",
       "2016-02-03       1410000.0    1408000.0    1433000.0   1398000.0   4121.0\n",
       "2016-02-04       1381000.0    1416000.0    1418000.0   1380000.0   5039.0\n",
       "2016-02-05       1259000.0    1381000.0    1381000.0   1254000.0  18153.0\n",
       "2016-02-11       1242000.0    1250000.0    1263000.0   1230000.0   7384.0\n",
       "2016-02-12       1180000.0    1230000.0    1240000.0   1142000.0  11311.0\n",
       "2016-02-15       1274000.0    1198000.0    1279000.0   1195000.0   9462.0\n",
       "2016-02-16       1298000.0    1263000.0    1323000.0   1263000.0   6873.0\n",
       "2016-02-17       1230000.0    1300000.0    1325000.0   1205000.0  12108.0"
      ]
     },
     "execution_count": 24,
     "metadata": {},
     "output_type": "execute_result"
    }
   ],
   "source": [
    "df.loc[:date]"
   ]
  },
  {
   "cell_type": "code",
   "execution_count": null,
   "metadata": {},
   "outputs": [],
   "source": []
  },
  {
   "cell_type": "markdown",
   "metadata": {},
   "source": [
    "### b) select _\"Series\"_"
   ]
  },
  {
   "cell_type": "code",
   "execution_count": 25,
   "metadata": {},
   "outputs": [],
   "source": [
    "series = df['close_prices']"
   ]
  },
  {
   "cell_type": "code",
   "execution_count": 26,
   "metadata": {},
   "outputs": [
    {
     "data": {
      "text/plain": [
       "market_dates\n",
       "2016-02-01    1384000.0\n",
       "2016-02-02    1409000.0\n",
       "2016-02-03    1410000.0\n",
       "2016-02-04    1381000.0\n",
       "2016-02-05    1259000.0\n",
       "2016-02-11    1242000.0\n",
       "2016-02-12    1180000.0\n",
       "2016-02-15    1274000.0\n",
       "2016-02-16    1298000.0\n",
       "2016-02-17    1230000.0\n",
       "2016-02-18    1240000.0\n",
       "2016-02-19    1238000.0\n",
       "2016-02-22    1241000.0\n",
       "2016-02-23    1218000.0\n",
       "2016-02-24    1172000.0\n",
       "2016-02-25    1162000.0\n",
       "2016-02-26    1189000.0\n",
       "2016-02-29    1146000.0\n",
       "2016-03-02    1186000.0\n",
       "2016-03-03    1217000.0\n",
       "2016-03-04    1070000.0\n",
       "2016-03-07    1072000.0\n",
       "2016-03-08    1037000.0\n",
       "2016-03-09    1043000.0\n",
       "2016-03-10    1043000.0\n",
       "2016-03-11    1050000.0\n",
       "2016-03-14    1018000.0\n",
       "2016-03-15    1020000.0\n",
       "2016-03-16    1033000.0\n",
       "2016-03-17    1019000.0\n",
       "                ...    \n",
       "2017-10-30     765000.0\n",
       "2017-10-31     759000.0\n",
       "2017-11-01     751000.0\n",
       "2017-11-02     751000.0\n",
       "2017-11-03     757000.0\n",
       "2017-11-06     758000.0\n",
       "2017-11-07     749000.0\n",
       "2017-11-08     752000.0\n",
       "2017-11-09     770000.0\n",
       "2017-11-10     761000.0\n",
       "2017-11-13     757000.0\n",
       "2017-11-14     759000.0\n",
       "2017-11-15     753000.0\n",
       "2017-11-16     752000.0\n",
       "2017-11-17     789000.0\n",
       "2017-11-20     826000.0\n",
       "2017-11-21     826000.0\n",
       "2017-11-22     804000.0\n",
       "2017-11-23     810000.0\n",
       "2017-11-24     800000.0\n",
       "2017-11-27     808000.0\n",
       "2017-11-28     828000.0\n",
       "2017-11-29     809000.0\n",
       "2017-11-30     794000.0\n",
       "2017-12-01     791000.0\n",
       "2017-12-04     792000.0\n",
       "2017-12-05     820000.0\n",
       "2017-12-06     795000.0\n",
       "2017-12-07     800000.0\n",
       "2017-12-08     778000.0\n",
       "Name: close_prices, Length: 456, dtype: float64"
      ]
     },
     "execution_count": 26,
     "metadata": {},
     "output_type": "execute_result"
    }
   ],
   "source": [
    "series"
   ]
  },
  {
   "cell_type": "code",
   "execution_count": 27,
   "metadata": {},
   "outputs": [
    {
     "data": {
      "text/plain": [
       "pandas.core.frame.DataFrame"
      ]
     },
     "execution_count": 27,
     "metadata": {},
     "output_type": "execute_result"
    }
   ],
   "source": [
    "type(df)"
   ]
  },
  {
   "cell_type": "code",
   "execution_count": 28,
   "metadata": {},
   "outputs": [
    {
     "data": {
      "text/plain": [
       "pandas.core.series.Series"
      ]
     },
     "execution_count": 28,
     "metadata": {},
     "output_type": "execute_result"
    }
   ],
   "source": [
    "type(df['close_prices'])"
   ]
  },
  {
   "cell_type": "code",
   "execution_count": 29,
   "metadata": {},
   "outputs": [
    {
     "data": {
      "text/plain": [
       "1230000.0"
      ]
     },
     "execution_count": 29,
     "metadata": {},
     "output_type": "execute_result"
    }
   ],
   "source": [
    "series[row_index]"
   ]
  },
  {
   "cell_type": "code",
   "execution_count": 30,
   "metadata": {},
   "outputs": [
    {
     "data": {
      "text/plain": [
       "market_dates\n",
       "2016-02-01    1384000.0\n",
       "2016-02-02    1409000.0\n",
       "2016-02-03    1410000.0\n",
       "2016-02-04    1381000.0\n",
       "2016-02-05    1259000.0\n",
       "2016-02-11    1242000.0\n",
       "2016-02-12    1180000.0\n",
       "2016-02-15    1274000.0\n",
       "2016-02-16    1298000.0\n",
       "Name: close_prices, dtype: float64"
      ]
     },
     "execution_count": 30,
     "metadata": {},
     "output_type": "execute_result"
    }
   ],
   "source": [
    "series[:row_index]"
   ]
  },
  {
   "cell_type": "code",
   "execution_count": null,
   "metadata": {},
   "outputs": [],
   "source": []
  },
  {
   "cell_type": "markdown",
   "metadata": {},
   "source": [
    "---"
   ]
  },
  {
   "cell_type": "markdown",
   "metadata": {},
   "source": [
    "### 02_02. plotly candlestick-graph"
   ]
  },
  {
   "cell_type": "markdown",
   "metadata": {},
   "source": [
    "### a) show interactive graph"
   ]
  },
  {
   "cell_type": "code",
   "execution_count": 31,
   "metadata": {},
   "outputs": [
    {
     "data": {
      "text/html": [
       "<script>requirejs.config({paths: { 'plotly': ['https://cdn.plot.ly/plotly-latest.min']},});if(!window.Plotly) {{require(['plotly'],function(plotly) {window.Plotly=plotly;});}}</script>"
      ],
      "text/vnd.plotly.v1+html": [
       "<script>requirejs.config({paths: { 'plotly': ['https://cdn.plot.ly/plotly-latest.min']},});if(!window.Plotly) {{require(['plotly'],function(plotly) {window.Plotly=plotly;});}}</script>"
      ]
     },
     "metadata": {},
     "output_type": "display_data"
    },
    {
     "data": {
      "text/html": [
       "<iframe id=\"igraph\" scrolling=\"no\" style=\"border:none;\" seamless=\"seamless\" src=\"https://plot.ly/~JiHyunPark/5.embed\" height=\"525px\" width=\"100%\"></iframe>"
      ],
      "text/plain": [
       "<plotly.tools.PlotlyDisplay object>"
      ]
     },
     "execution_count": 31,
     "metadata": {},
     "output_type": "execute_result"
    }
   ],
   "source": [
    "from plotly.offline import download_plotlyjs, init_notebook_mode\n",
    "import plotly.plotly as py\n",
    "\n",
    "init_notebook_mode(connected=True)\n",
    "fig = DataDecorator.set_candelstick_data(df=df, name=names[index_num], stock_item=stock_items[index_num])\n",
    "py.iplot(fig, filename='candlestick')"
   ]
  },
  {
   "cell_type": "markdown",
   "metadata": {},
   "source": [
    "- **link: [candlestick-graph](https://plot.ly/~JiHyunPark/5/_007310/)**"
   ]
  },
  {
   "cell_type": "markdown",
   "metadata": {},
   "source": [
    "### b) save as a static image"
   ]
  },
  {
   "cell_type": "code",
   "execution_count": 32,
   "metadata": {},
   "outputs": [
    {
     "data": {
      "image/png": "[encoded data removed]",
      "text/plain": [
       "<IPython.core.display.Image object>"
      ]
     },
     "execution_count": 32,
     "metadata": {
      "image/png": {
       "height": 900,
       "width": 1300
      }
     },
     "output_type": "execute_result"
    }
   ],
   "source": [
    "py.image.save_as(fig, filename='./fig/candlestick.png')\n",
    "from IPython.display import Image\n",
    "Image('./fig/candlestick.png', width=1300, height=900)"
   ]
  },
  {
   "cell_type": "markdown",
   "metadata": {},
   "source": [
    "---"
   ]
  },
  {
   "cell_type": "markdown",
   "metadata": {},
   "source": [
    "# 03. Clustering"
   ]
  },
  {
   "cell_type": "code",
   "execution_count": 33,
   "metadata": {},
   "outputs": [],
   "source": [
    "from cluster import Cluster\n",
    "import numpy as np"
   ]
  },
  {
   "cell_type": "markdown",
   "metadata": {},
   "source": [
    "- **src: [cluster.py](https://github.com/jhyun0919/skku_python_proj/blob/master/codes/cluster.py)**\n",
    "- **src: [dataDecorator.py](https://github.com/jhyun0919/skku_python_proj/blob/master/codes/dataDecorator.py)**"
   ]
  },
  {
   "cell_type": "markdown",
   "metadata": {},
   "source": [
    "### 03_01. set clusters with _affinity propagation_"
   ]
  },
  {
   "cell_type": "code",
   "execution_count": 34,
   "metadata": {},
   "outputs": [
    {
     "name": "stdout",
     "output_type": "stream",
     "text": [
      "Cluster 1: 기아차, 현대차, 삼성중공업\n",
      "Cluster 2: sk하이닉스, 삼성전자, LG디스플레이, 카카오\n",
      "Cluster 3: 대한항공, 아시아나항공\n",
      "Cluster 4: 신세계, 호텔신라, 현대백화점, 하이마트, 이마트\n",
      "Cluster 5: 현대중공업, 대우조선해양\n",
      "Cluster 6: 두산, 한화, 효성, 한화케미칼, LG화학\n",
      "Cluster 7: 현대제철, S오일, SK, LG전자, sk이노베이션\n",
      "Cluster 8: SKT, KT, LG유플러스\n",
      "Cluster 9: JYP엔터, ncsoft, 한국한공우주, 셀트리온, 셀트리온제약\n",
      "Cluster 10: sm엔터, LG생활건강, 아모레퍼시픽\n",
      "Cluster 11: CJ, 오뚜기, CJ제일제당\n",
      "Cluster 12: 기업은행, 삼성카드, 네이버, 신한지주, KB금융\n"
     ]
    }
   ],
   "source": [
    "edge_model, embedding, names, n_labels, labels = Cluster.affinity(quotes=quotes)"
   ]
  },
  {
   "cell_type": "code",
   "execution_count": null,
   "metadata": {},
   "outputs": [],
   "source": []
  },
  {
   "cell_type": "markdown",
   "metadata": {},
   "source": [
    "### a) check edge_model"
   ]
  },
  {
   "cell_type": "code",
   "execution_count": 35,
   "metadata": {},
   "outputs": [
    {
     "data": {
      "text/plain": [
       "sklearn.covariance.graph_lasso_.GraphLassoCV"
      ]
     },
     "execution_count": 35,
     "metadata": {},
     "output_type": "execute_result"
    }
   ],
   "source": [
    "type(edge_model)"
   ]
  },
  {
   "cell_type": "code",
   "execution_count": 36,
   "metadata": {},
   "outputs": [
    {
     "name": "stdout",
     "output_type": "stream",
     "text": [
      "[[ 1.10018882 -0.         -0.         ..., -0.         -0.         -0.03292098]\n",
      " [-0.          1.45629071 -0.         ..., -0.         -0.04110596  0.        ]\n",
      " [-0.         -0.          1.15900147 ...,  0.         -0.          0.        ]\n",
      " ..., \n",
      " [-0.         -0.          0.         ...,  1.20545169 -0.00463887\n",
      "  -0.09441332]\n",
      " [-0.         -0.04110596 -0.         ..., -0.00463887  1.56214845\n",
      "  -0.02157423]\n",
      " [-0.03292098  0.          0.         ..., -0.09441332 -0.02157423\n",
      "   1.08546685]]\n"
     ]
    }
   ],
   "source": [
    "partial_correlations = edge_model.precision_.copy()\n",
    "print(partial_correlations)"
   ]
  },
  {
   "cell_type": "code",
   "execution_count": 37,
   "metadata": {},
   "outputs": [
    {
     "data": {
      "text/plain": [
       "(45, 45)"
      ]
     },
     "execution_count": 37,
     "metadata": {},
     "output_type": "execute_result"
    }
   ],
   "source": [
    "partial_correlations.shape"
   ]
  },
  {
   "cell_type": "code",
   "execution_count": null,
   "metadata": {},
   "outputs": [],
   "source": []
  },
  {
   "cell_type": "code",
   "execution_count": 38,
   "metadata": {},
   "outputs": [
    {
     "data": {
      "text/plain": [
       "array([ 1.10018882,  1.45629071,  1.15900147,  1.18183499,  1.26563883,\n",
       "        1.29778369,  1.21803682,  1.33001601,  1.13463078,  1.41662575,\n",
       "        1.09035214,  1.08584025,  1.27201572,  1.04253831,  1.26219951,\n",
       "        1.10513401,  1.68287943,  1.23634907,  1.32610731,  1.42963024,\n",
       "        1.02944534,  1.24470292,  1.11772029,  1.06284808,  1.10289319,\n",
       "        1.02243426,  1.12024684,  1.02406219,  1.05435301,  1.15485108,\n",
       "        1.0448258 ,  1.03743131,  1.53298096,  1.2256528 ,  1.45119329,\n",
       "        1.04089539,  1.49258413,  1.43482307,  1.18756366,  1.07968729,\n",
       "        1.52624743,  1.68568978,  1.20545169,  1.56214845,  1.08546685])"
      ]
     },
     "execution_count": 38,
     "metadata": {},
     "output_type": "execute_result"
    }
   ],
   "source": [
    "np.diag(partial_correlations)"
   ]
  },
  {
   "cell_type": "code",
   "execution_count": 39,
   "metadata": {},
   "outputs": [
    {
     "data": {
      "text/plain": [
       "array([ 0.95338077,  0.82865921,  0.92887657,  0.91985967,  0.88888403,\n",
       "        0.8778066 ,  0.90608677,  0.86710475,  0.93879922,  0.84018018,\n",
       "        0.9576716 ,  0.9596592 ,  0.88665315,  0.97938622,  0.89009425,\n",
       "        0.95124531,  0.77085643,  0.89935147,  0.86838171,  0.83635015,\n",
       "        0.98559469,  0.89632838,  0.94587432,  0.96998363,  0.95221117,\n",
       "        0.98896815,  0.94480708,  0.98818176,  0.97388344,  0.9305442 ,\n",
       "        0.97831352,  0.98179389,  0.80766566,  0.90326726,  0.83011329,\n",
       "        0.98015883,  0.81852244,  0.83483534,  0.91763834,  0.96238979,\n",
       "        0.80944534,  0.77021358,  0.91080435,  0.80009001,  0.95982425])"
      ]
     },
     "execution_count": 39,
     "metadata": {},
     "output_type": "execute_result"
    }
   ],
   "source": [
    "d = 1 / np.sqrt(np.diag(partial_correlations))\n",
    "d"
   ]
  },
  {
   "cell_type": "code",
   "execution_count": 40,
   "metadata": {},
   "outputs": [
    {
     "name": "stdout",
     "output_type": "stream",
     "text": [
      "[[ 1.04889886 -0.         -0.         ..., -0.         -0.         -0.03159836]\n",
      " [-0.          1.20676871 -0.         ..., -0.         -0.03288846  0.        ]\n",
      " [-0.         -0.          1.0765693  ...,  0.         -0.          0.        ]\n",
      " ..., \n",
      " [-0.         -0.          0.         ...,  1.09793064 -0.00371151\n",
      "  -0.0906202 ]\n",
      " [-0.         -0.03406283 -0.         ..., -0.0042251   1.24985937\n",
      "  -0.02070747]\n",
      " [-0.03138623  0.          0.         ..., -0.08599206 -0.01726132\n",
      "   1.0418574 ]]\n"
     ]
    }
   ],
   "source": [
    "partial_correlations *= d        \n",
    "print(partial_correlations)"
   ]
  },
  {
   "cell_type": "code",
   "execution_count": 41,
   "metadata": {},
   "outputs": [
    {
     "name": "stdout",
     "output_type": "stream",
     "text": [
      "[[ 1.         -0.         -0.         ..., -0.         -0.         -0.03012527]\n",
      " [-0.          1.         -0.         ..., -0.         -0.02725333  0.        ]\n",
      " [-0.         -0.          1.         ...,  0.         -0.          0.        ]\n",
      " ..., \n",
      " [-0.         -0.          0.         ...,  1.         -0.00338046\n",
      "  -0.08253727]\n",
      " [-0.         -0.02725333 -0.         ..., -0.00338046  1.         -0.01656784]\n",
      " [-0.03012527  0.          0.         ..., -0.08253727 -0.01656784  1.        ]]\n"
     ]
    }
   ],
   "source": [
    "partial_correlations *= d[:, np.newaxis]\n",
    "print(partial_correlations)"
   ]
  },
  {
   "cell_type": "code",
   "execution_count": 42,
   "metadata": {},
   "outputs": [
    {
     "name": "stdout",
     "output_type": "stream",
     "text": [
      "[[False False False ..., False False  True]\n",
      " [False False False ..., False  True False]\n",
      " [False False False ..., False False False]\n",
      " ..., \n",
      " [False False False ..., False False  True]\n",
      " [False False False ..., False False False]\n",
      " [False False False ..., False False False]]\n"
     ]
    }
   ],
   "source": [
    "non_zero = (np.abs(np.triu(partial_correlations, k=1)) > 0.02)\n",
    "print(non_zero)"
   ]
  },
  {
   "cell_type": "code",
   "execution_count": 43,
   "metadata": {},
   "outputs": [
    {
     "data": {
      "text/plain": [
       "array([ 0.0851884 ,  0.13427343,  0.06429503,  0.13270105,  0.02784667,\n",
       "        0.04972065,  0.03254757,  0.03012527,  0.07718478,  0.52140192,\n",
       "        0.07691104,  0.04674085,  0.05145076,  0.02725333,  0.25340076,\n",
       "        0.02108127,  0.13946258,  0.02620129,  0.15800875,  0.0221253 ,\n",
       "        0.11354238,  0.04208492,  0.03089851,  0.02610304,  0.07535926,\n",
       "        0.18279258,  0.08254717,  0.12217037,  0.12824904,  0.02016735,\n",
       "        0.05496223,  0.05923289,  0.02896752,  0.12487917,  0.03008662,\n",
       "        0.05063931,  0.02925336,  0.10222528,  0.08148877,  0.02744831,\n",
       "        0.02826104,  0.02379759,  0.03696572,  0.06253897,  0.29983072,\n",
       "        0.02551227,  0.46191318,  0.02769986,  0.05664662,  0.13045907,\n",
       "        0.0589135 ,  0.04254531,  0.15365405,  0.07050312,  0.03064964,\n",
       "        0.05509475,  0.04801417,  0.02103578,  0.03216304,  0.06489926,\n",
       "        0.03643913,  0.02364228,  0.06968918,  0.2424144 ,  0.28255257,\n",
       "        0.15042978,  0.04311045,  0.13649526,  0.1031659 ,  0.02282585,\n",
       "        0.06550872,  0.07428368,  0.09231567,  0.0203971 ,  0.02237897,\n",
       "        0.02988792,  0.05283165,  0.02510302,  0.03730814,  0.03853954,\n",
       "        0.15946532,  0.0312338 ,  0.06752511,  0.03104202,  0.1251883 ,\n",
       "        0.17929533,  0.02622657,  0.05270848,  0.05027022,  0.0233693 ,\n",
       "        0.20171555,  0.06317196,  0.03448018,  0.03620897,  0.26483945,\n",
       "        0.08431391,  0.05522034,  0.02581541,  0.02608365,  0.02166811,\n",
       "        0.03201164,  0.0664989 ,  0.027924  ,  0.57824617,  0.32981431,\n",
       "        0.16008934,  0.12371154,  0.02101614,  0.02641549,  0.02781332,\n",
       "        0.06081853,  0.04964864,  0.20102701,  0.02014006,  0.32718697,\n",
       "        0.03620444,  0.05836116,  0.19538754,  0.06172305,  0.06153937,\n",
       "        0.02062596,  0.02353261,  0.02080722,  0.03401989,  0.16647314,\n",
       "        0.0345119 ,  0.02549597,  0.07373236,  0.03187377,  0.02524737,\n",
       "        0.02441757,  0.04693906,  0.06820442,  0.07732325,  0.0273016 ,\n",
       "        0.0313553 ,  0.02331769,  0.03324658,  0.13988177,  0.07907289,\n",
       "        0.10597955,  0.02066875,  0.10661287,  0.05175294,  0.0217655 ,\n",
       "        0.03793793,  0.06332256,  0.07753745,  0.16254449,  0.04257897,\n",
       "        0.03152812,  0.09462063,  0.06769228,  0.02501962,  0.48997173,\n",
       "        0.04449747,  0.11022257,  0.04367403,  0.38276336,  0.04050156,\n",
       "        0.52369679,  0.06160524,  0.04594466,  0.06037839,  0.04556644,\n",
       "        0.05570286,  0.08253727])"
      ]
     },
     "execution_count": 43,
     "metadata": {},
     "output_type": "execute_result"
    }
   ],
   "source": [
    "values = np.abs(partial_correlations[non_zero])\n",
    "values"
   ]
  },
  {
   "cell_type": "markdown",
   "metadata": {},
   "source": [
    "### b) check embedding"
   ]
  },
  {
   "cell_type": "code",
   "execution_count": 44,
   "metadata": {},
   "outputs": [
    {
     "data": {
      "text/plain": [
       "numpy.ndarray"
      ]
     },
     "execution_count": 44,
     "metadata": {},
     "output_type": "execute_result"
    }
   ],
   "source": [
    "type(embedding)"
   ]
  },
  {
   "cell_type": "code",
   "execution_count": 45,
   "metadata": {},
   "outputs": [
    {
     "data": {
      "text/plain": [
       "(2, 45)"
      ]
     },
     "execution_count": 45,
     "metadata": {},
     "output_type": "execute_result"
    }
   ],
   "source": [
    "embedding.shape"
   ]
  },
  {
   "cell_type": "code",
   "execution_count": 46,
   "metadata": {},
   "outputs": [
    {
     "data": {
      "text/plain": [
       "array([[-0.15414171, -0.1522342 , -0.05256336, -0.15331279,  0.24316404,\n",
       "         0.06944942, -0.15922576,  0.20837768, -0.1651232 , -0.14727443,\n",
       "        -0.05965485,  0.21484409,  0.24047066,  0.08231153, -0.16818998,\n",
       "        -0.11717236, -0.18190947, -0.0916364 ,  0.07307739, -0.16153545,\n",
       "        -0.14026995, -0.0580736 , -0.02763363, -0.04785223, -0.14792527,\n",
       "        -0.01135834,  0.01076463,  0.07934398,  0.06269372,  0.19785951,\n",
       "         0.04598892,  0.10866583,  0.2671704 , -0.1716379 , -0.16394217,\n",
       "        -0.11948081,  0.05037492,  0.08801474,  0.18463239,  0.14806945,\n",
       "         0.25756915, -0.18249374,  0.22681493, -0.16190395,  0.13688815],\n",
       "       [ 0.01212845,  0.18878264, -0.19476579, -0.00429833,  0.02528397,\n",
       "         0.0634092 , -0.01706441,  0.07033914, -0.13672923,  0.20452935,\n",
       "        -0.16270696,  0.04454722,  0.03607521,  0.11355223, -0.16491639,\n",
       "         0.05774725, -0.24027365,  0.10669447,  0.06380892,  0.27735872,\n",
       "         0.19841907,  0.134193  ,  0.12145172, -0.145905  , -0.08583274,\n",
       "         0.03753671, -0.18328286, -0.0108019 , -0.14591726, -0.06360859,\n",
       "         0.05358442, -0.06895874,  0.01789311, -0.19783587,  0.30012756,\n",
       "        -0.14238623, -0.27431666, -0.25246274,  0.07709981,  0.04725619,\n",
       "         0.00316646, -0.21344533,  0.05207528,  0.33892629,  0.05952232]])"
      ]
     },
     "execution_count": 46,
     "metadata": {},
     "output_type": "execute_result"
    }
   ],
   "source": [
    "embedding"
   ]
  },
  {
   "cell_type": "code",
   "execution_count": null,
   "metadata": {},
   "outputs": [],
   "source": []
  },
  {
   "cell_type": "markdown",
   "metadata": {},
   "source": [
    "### 03_02. visualize the clusters"
   ]
  },
  {
   "cell_type": "code",
   "execution_count": 47,
   "metadata": {},
   "outputs": [
    {
     "data": {
      "image/png": "[encoded data removed]",
      "text/plain": [
       "<matplotlib.figure.Figure at 0x10a79f198>"
      ]
     },
     "metadata": {},
     "output_type": "display_data"
    }
   ],
   "source": [
    "DataDecorator.show_cluster(edge_model, embedding, names, n_labels, labels)"
   ]
  },
  {
   "cell_type": "markdown",
   "metadata": {},
   "source": [
    "---"
   ]
  },
  {
   "cell_type": "markdown",
   "metadata": {},
   "source": [
    "# 04. Reference\n",
    "* [NAVER를 통한 주식정보 크롤링 by Jaeyeon Baek](http://estenpark.tistory.com/353)\n",
    "* [plotly : Candlestick-Chart](https://plot.ly/python/candlestick-charts/)\n",
    "* [Visualizing the Stock Market Structure](http://scikit-learn.org/stable/auto_examples/applications/plot_stock_market.html)\n"
   ]
  },
  {
   "cell_type": "code",
   "execution_count": null,
   "metadata": {},
   "outputs": [],
   "source": []
  }
 ],
 "metadata": {
  "kernelspec": {
   "display_name": "Python 3",
   "language": "python",
   "name": "python3"
  },
  "language_info": {
   "codemirror_mode": {
    "name": "ipython",
    "version": 3
   },
   "file_extension": ".py",
   "mimetype": "text/x-python",
   "name": "python",
   "nbconvert_exporter": "python",
   "pygments_lexer": "ipython3",
   "version": "3.6.3"
  }
 },
 "nbformat": 4,
 "nbformat_minor": 2
}
